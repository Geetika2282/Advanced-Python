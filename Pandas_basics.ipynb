{
 "cells": [
  {
   "cell_type": "code",
   "execution_count": 1,
   "id": "bc4c8bd8-bc4d-4cee-a8ba-c1e483e21996",
   "metadata": {},
   "outputs": [],
   "source": [
    "# Pandas is an open source python library built on top of the numpy specifically designed for working with structured data"
   ]
  },
  {
   "cell_type": "code",
   "execution_count": 8,
   "id": "5e353828-b0ca-439c-94f1-3051f2162201",
   "metadata": {},
   "outputs": [],
   "source": [
    "import pandas as pd\n",
    "import csv"
   ]
  },
  {
   "cell_type": "markdown",
   "id": "8031ecff-0af5-49e0-ac21-0b58e97d32d5",
   "metadata": {},
   "source": [
    "#### Data frames are 2D like a table. They have labelled axes - columns and rows"
   ]
  },
  {
   "cell_type": "markdown",
   "id": "0c621b80-56bb-4f03-aa4e-5e4514d0a2cf",
   "metadata": {},
   "source": [
    "##### Primary data structures in Pandas:\n",
    "1-D single column with labeled index, Homogeneous, used for single columns of data\n",
    "\n",
    "2-D Multiple columns, Heterogeneous data, used for tabular data "
   ]
  },
  {
   "cell_type": "markdown",
   "id": "9db4e37d-7214-4c31-880e-619d2d326dbd",
   "metadata": {},
   "source": [
    "### Data Manipulation\n",
    "Filtering\n",
    "Aggregation\n",
    "Reshaping\n",
    "### Data I/O  \n",
    "csv\n",
    "Xls\n",
    "databases\n",
    "### Handling Missing data\n",
    "isna()\n",
    "dropna()\n",
    "fillna()\n",
    "### Time Series analysis\n",
    "To_datetime()"
   ]
  },
  {
   "cell_type": "code",
   "execution_count": 6,
   "id": "a96bd2d6-6782-4fe0-8c22-318d0887cb79",
   "metadata": {},
   "outputs": [
    {
     "data": {
      "text/html": [
       "<div>\n",
       "<style scoped>\n",
       "    .dataframe tbody tr th:only-of-type {\n",
       "        vertical-align: middle;\n",
       "    }\n",
       "\n",
       "    .dataframe tbody tr th {\n",
       "        vertical-align: top;\n",
       "    }\n",
       "\n",
       "    .dataframe thead th {\n",
       "        text-align: right;\n",
       "    }\n",
       "</style>\n",
       "<table border=\"1\" class=\"dataframe\">\n",
       "  <thead>\n",
       "    <tr style=\"text-align: right;\">\n",
       "      <th></th>\n",
       "      <th>Name</th>\n",
       "      <th>Age</th>\n",
       "      <th>City</th>\n",
       "    </tr>\n",
       "  </thead>\n",
       "  <tbody>\n",
       "    <tr>\n",
       "      <th>0</th>\n",
       "      <td>John Doe</td>\n",
       "      <td>28</td>\n",
       "      <td>New York</td>\n",
       "    </tr>\n",
       "    <tr>\n",
       "      <th>1</th>\n",
       "      <td>Jane Smith</td>\n",
       "      <td>34</td>\n",
       "      <td>Los Angeles</td>\n",
       "    </tr>\n",
       "    <tr>\n",
       "      <th>2</th>\n",
       "      <td>Mike Johnson</td>\n",
       "      <td>45</td>\n",
       "      <td>Chicago</td>\n",
       "    </tr>\n",
       "    <tr>\n",
       "      <th>3</th>\n",
       "      <td>Emily Davis</td>\n",
       "      <td>22</td>\n",
       "      <td>Houston</td>\n",
       "    </tr>\n",
       "  </tbody>\n",
       "</table>\n",
       "</div>"
      ],
      "text/plain": [
       "           Name   Age          City\n",
       "0      John Doe    28      New York\n",
       "1    Jane Smith    34   Los Angeles\n",
       "2  Mike Johnson    45       Chicago\n",
       "3   Emily Davis    22       Houston"
      ]
     },
     "execution_count": 6,
     "metadata": {},
     "output_type": "execute_result"
    }
   ],
   "source": [
    "dt = pd.read_csv('data.csv')\n",
    "dt"
   ]
  },
  {
   "cell_type": "code",
   "execution_count": 14,
   "id": "c101d963-7b53-4917-9627-b71ec5035037",
   "metadata": {},
   "outputs": [
    {
     "name": "stdout",
     "output_type": "stream",
     "text": [
      "Data has been written to student_data.csv\n"
     ]
    }
   ],
   "source": [
    "import csv\n",
    "\n",
    "# Define the student data\n",
    "students = [\n",
    "    {'Roll No': 1, 'Name': 'John Doe', 'Class': '10th', 'Marks': 85},\n",
    "    {'Roll No': 2, 'Name': 'Jane Smith', 'Class': None, 'Marks': 90},\n",
    "    {'Roll No': 3, 'Name': 'Sam Brown', 'Class': '10th', 'Marks': 78}\n",
    "]\n",
    "\n",
    "# Specify the filename\n",
    "file = 'student_data.csv'\n",
    "\n",
    "# Writing to csv file\n",
    "with open(file, 'w', newline='') as csvfile:\n",
    "    # Create a writer object\n",
    "    fieldnames = ['Roll No', 'Name', 'Class', 'Marks']\n",
    "    writer = csv.DictWriter(csvfile, fieldnames=fieldnames)\n",
    "    \n",
    "    # Write the header (fieldnames)\n",
    "    writer.writeheader()\n",
    "    \n",
    "    # Write the student data\n",
    "    for student in students:import csv\n",
    "\n",
    "# Define the student data\n",
    "students = [\n",
    "    {'Roll No': 1, 'Name': 'John Doe', 'Class': '10th', 'Marks': 85},\n",
    "    {'Roll No': 2, 'Name': 'Jane Smith', 'Class': None, 'Marks': 90},\n",
    "    {'Roll No': 3, 'Name': 'Sam Brown', 'Class': '10th', 'Marks': 78}\n",
    "]\n",
    "\n",
    "# Specify the filename\n",
    "file = 'student_data.csv'\n",
    "\n",
    "# Writing to csv file\n",
    "with open(file, 'w', newline='') as csvfile:\n",
    "    # Create a writer object\n",
    "    fieldnames = ['Roll No', 'Name', 'Class', 'Marks']\n",
    "    writer = csv.DictWriter(csvfile, fieldnames=fieldnames)\n",
    "    \n",
    "    # Write the header (fieldnames)\n",
    "    writer.writeheader()\n",
    "    \n",
    "    # Write the student data\n",
    "    for student in students:\n",
    "        writer.writerow(student)\n",
    "\n",
    "print(f\"Data has been written to {filename}\")\n",
    "\n",
    "        writer.writerow(student)\n",
    "\n",
    "print(f\"Data has been written to {filename}\")\n"
   ]
  },
  {
   "cell_type": "code",
   "execution_count": 19,
   "id": "910f7228-754e-4f78-8d7f-668e92693730",
   "metadata": {},
   "outputs": [
    {
     "data": {
      "text/html": [
       "<div>\n",
       "<style scoped>\n",
       "    .dataframe tbody tr th:only-of-type {\n",
       "        vertical-align: middle;\n",
       "    }\n",
       "\n",
       "    .dataframe tbody tr th {\n",
       "        vertical-align: top;\n",
       "    }\n",
       "\n",
       "    .dataframe thead th {\n",
       "        text-align: right;\n",
       "    }\n",
       "</style>\n",
       "<table border=\"1\" class=\"dataframe\">\n",
       "  <thead>\n",
       "    <tr style=\"text-align: right;\">\n",
       "      <th></th>\n",
       "      <th>Roll No</th>\n",
       "      <th>Name</th>\n",
       "      <th>Class</th>\n",
       "      <th>Marks</th>\n",
       "    </tr>\n",
       "  </thead>\n",
       "  <tbody>\n",
       "    <tr>\n",
       "      <th>0</th>\n",
       "      <td>1</td>\n",
       "      <td>John Doe</td>\n",
       "      <td>10th</td>\n",
       "      <td>85</td>\n",
       "    </tr>\n",
       "    <tr>\n",
       "      <th>1</th>\n",
       "      <td>2</td>\n",
       "      <td>Jane Smith</td>\n",
       "      <td>NaN</td>\n",
       "      <td>90</td>\n",
       "    </tr>\n",
       "    <tr>\n",
       "      <th>2</th>\n",
       "      <td>3</td>\n",
       "      <td>Sam Brown</td>\n",
       "      <td>10th</td>\n",
       "      <td>78</td>\n",
       "    </tr>\n",
       "  </tbody>\n",
       "</table>\n",
       "</div>"
      ],
      "text/plain": [
       "   Roll No        Name Class  Marks\n",
       "0        1    John Doe  10th     85\n",
       "1        2  Jane Smith   NaN     90\n",
       "2        3   Sam Brown  10th     78"
      ]
     },
     "execution_count": 19,
     "metadata": {},
     "output_type": "execute_result"
    }
   ],
   "source": [
    "ff = pd.read_csv('student_data.csv')\n",
    "ff"
   ]
  },
  {
   "cell_type": "code",
   "execution_count": 20,
   "id": "57e66ee4-8c64-45bd-aae2-3bc9ca113f1c",
   "metadata": {},
   "outputs": [],
   "source": [
    "d = pd.DataFrame(ff)"
   ]
  },
  {
   "cell_type": "code",
   "execution_count": 21,
   "id": "2d0e962f-3fc5-4aee-a245-07592c8adf5f",
   "metadata": {},
   "outputs": [
    {
     "data": {
      "text/html": [
       "<div>\n",
       "<style scoped>\n",
       "    .dataframe tbody tr th:only-of-type {\n",
       "        vertical-align: middle;\n",
       "    }\n",
       "\n",
       "    .dataframe tbody tr th {\n",
       "        vertical-align: top;\n",
       "    }\n",
       "\n",
       "    .dataframe thead th {\n",
       "        text-align: right;\n",
       "    }\n",
       "</style>\n",
       "<table border=\"1\" class=\"dataframe\">\n",
       "  <thead>\n",
       "    <tr style=\"text-align: right;\">\n",
       "      <th></th>\n",
       "      <th>Roll No</th>\n",
       "      <th>Name</th>\n",
       "      <th>Class</th>\n",
       "      <th>Marks</th>\n",
       "    </tr>\n",
       "  </thead>\n",
       "  <tbody>\n",
       "    <tr>\n",
       "      <th>0</th>\n",
       "      <td>1</td>\n",
       "      <td>John Doe</td>\n",
       "      <td>10th</td>\n",
       "      <td>85</td>\n",
       "    </tr>\n",
       "    <tr>\n",
       "      <th>1</th>\n",
       "      <td>2</td>\n",
       "      <td>Jane Smith</td>\n",
       "      <td>NaN</td>\n",
       "      <td>90</td>\n",
       "    </tr>\n",
       "    <tr>\n",
       "      <th>2</th>\n",
       "      <td>3</td>\n",
       "      <td>Sam Brown</td>\n",
       "      <td>10th</td>\n",
       "      <td>78</td>\n",
       "    </tr>\n",
       "  </tbody>\n",
       "</table>\n",
       "</div>"
      ],
      "text/plain": [
       "   Roll No        Name Class  Marks\n",
       "0        1    John Doe  10th     85\n",
       "1        2  Jane Smith   NaN     90\n",
       "2        3   Sam Brown  10th     78"
      ]
     },
     "execution_count": 21,
     "metadata": {},
     "output_type": "execute_result"
    }
   ],
   "source": [
    "d"
   ]
  },
  {
   "cell_type": "code",
   "execution_count": 22,
   "id": "effc6117-ac9b-4371-946c-b545c8458d13",
   "metadata": {},
   "outputs": [
    {
     "data": {
      "text/plain": [
       "Roll No    3\n",
       "Name       3\n",
       "Class      2\n",
       "Marks      3\n",
       "dtype: int64"
      ]
     },
     "execution_count": 22,
     "metadata": {},
     "output_type": "execute_result"
    }
   ],
   "source": [
    "d.count()"
   ]
  },
  {
   "cell_type": "code",
   "execution_count": 24,
   "id": "7b511906-1c25-48b2-ada1-45138de3d514",
   "metadata": {},
   "outputs": [
    {
     "data": {
      "text/plain": [
       "84.33333333333333"
      ]
     },
     "execution_count": 24,
     "metadata": {},
     "output_type": "execute_result"
    }
   ],
   "source": [
    "d['Marks'].mean()"
   ]
  },
  {
   "cell_type": "code",
   "execution_count": 25,
   "id": "a6bfe4f1-a121-46eb-8ea1-6a6124ef3240",
   "metadata": {},
   "outputs": [
    {
     "data": {
      "text/plain": [
       "6.027713773341707"
      ]
     },
     "execution_count": 25,
     "metadata": {},
     "output_type": "execute_result"
    }
   ],
   "source": [
    "d['Marks'].std()"
   ]
  },
  {
   "cell_type": "code",
   "execution_count": 26,
   "id": "56ab8c6d-b56c-4aef-9209-a2dc7e77ba99",
   "metadata": {},
   "outputs": [
    {
     "data": {
      "text/plain": [
       "90"
      ]
     },
     "execution_count": 26,
     "metadata": {},
     "output_type": "execute_result"
    }
   ],
   "source": [
    "d['Marks'].max()"
   ]
  },
  {
   "cell_type": "code",
   "execution_count": 27,
   "id": "394be5d2-3359-49bf-aa61-69bb001e9eb6",
   "metadata": {},
   "outputs": [
    {
     "data": {
      "text/plain": [
       "78"
      ]
     },
     "execution_count": 27,
     "metadata": {},
     "output_type": "execute_result"
    }
   ],
   "source": [
    "d['Marks'].min()"
   ]
  },
  {
   "cell_type": "code",
   "execution_count": 29,
   "id": "d5c758be-a4a8-414a-a8ff-91c22733ba63",
   "metadata": {},
   "outputs": [
    {
     "data": {
      "text/plain": [
       "0    False\n",
       "1     True\n",
       "2    False\n",
       "Name: Class, dtype: bool"
      ]
     },
     "execution_count": 29,
     "metadata": {},
     "output_type": "execute_result"
    }
   ],
   "source": [
    "d['Class'].isna()"
   ]
  },
  {
   "cell_type": "markdown",
   "id": "e6b408e8-7c0a-4c0e-9ad2-5eb04ea4a2f7",
   "metadata": {},
   "source": [
    "## Quartile: \n",
    "#### Quartiles are values that split a ranked dataset into four equal parts"
   ]
  },
  {
   "cell_type": "code",
   "execution_count": 30,
   "id": "42f87460-a8ad-41d4-a373-129e5bf7a7be",
   "metadata": {},
   "outputs": [
    {
     "name": "stdout",
     "output_type": "stream",
     "text": [
      "0    2.8\n",
      "1    1.6\n",
      "2    1.6\n",
      "Name: 0.2, dtype: float64\n"
     ]
    }
   ],
   "source": [
    "import pandas as pd\n",
    "data = [[1, 1, 2], [6, 4, 2], [4, 2, 1], [4, 2, 3]]\n",
    "df = pd.DataFrame(data)\n",
    "print(df.quantile(0.2))"
   ]
  },
  {
   "cell_type": "markdown",
   "id": "702502ee-9695-42de-9d31-14193a8f1f26",
   "metadata": {},
   "source": [
    "## Outlier calc: \n",
    "identify outliers by defining boundaries based on 25th percentile (Q1) and the 75th percentile (Q3)\n",
    "IQR\n",
    "Define the lower and upper bounds\n",
    "\r\n",
    "Any data point outside these bounds is considered an outlie.\r\n"
   ]
  },
  {
   "cell_type": "code",
   "execution_count": 40,
   "id": "f607beee-6429-4dc2-a5ed-d6cca38152ab",
   "metadata": {},
   "outputs": [
    {
     "name": "stdout",
     "output_type": "stream",
     "text": [
      "{'Roll No': 1, 'Name': 'John Doe', 'Class': '10th', 'Marks': 85}\n",
      "{'Roll No': 2, 'Name': 'Jane Smith', 'Class': None, 'Marks': 90}\n",
      "{'Roll No': 3, 'Name': 'Sam Brown', 'Class': '10th', 'Marks': 78}\n"
     ]
    }
   ],
   "source": [
    "if student['Class'] is None:\n",
    "    student['Class'] = 0\n",
    "    \n",
    "for student in students:\n",
    "    print(student)"
   ]
  },
  {
   "cell_type": "code",
   "execution_count": 42,
   "id": "0f6bbde1-0992-4ba3-9805-3ca5aeaf26a3",
   "metadata": {
    "scrolled": true
   },
   "outputs": [
    {
     "data": {
      "text/html": [
       "<div>\n",
       "<style scoped>\n",
       "    .dataframe tbody tr th:only-of-type {\n",
       "        vertical-align: middle;\n",
       "    }\n",
       "\n",
       "    .dataframe tbody tr th {\n",
       "        vertical-align: top;\n",
       "    }\n",
       "\n",
       "    .dataframe thead th {\n",
       "        text-align: right;\n",
       "    }\n",
       "</style>\n",
       "<table border=\"1\" class=\"dataframe\">\n",
       "  <thead>\n",
       "    <tr style=\"text-align: right;\">\n",
       "      <th></th>\n",
       "      <th>Roll No</th>\n",
       "      <th>Name</th>\n",
       "      <th>Class</th>\n",
       "      <th>Marks</th>\n",
       "    </tr>\n",
       "  </thead>\n",
       "  <tbody>\n",
       "    <tr>\n",
       "      <th>0</th>\n",
       "      <td>1</td>\n",
       "      <td>John Doe</td>\n",
       "      <td>10th</td>\n",
       "      <td>85</td>\n",
       "    </tr>\n",
       "    <tr>\n",
       "      <th>1</th>\n",
       "      <td>2</td>\n",
       "      <td>Jane Smith</td>\n",
       "      <td>None</td>\n",
       "      <td>90</td>\n",
       "    </tr>\n",
       "    <tr>\n",
       "      <th>2</th>\n",
       "      <td>3</td>\n",
       "      <td>Sam Brown</td>\n",
       "      <td>10th</td>\n",
       "      <td>78</td>\n",
       "    </tr>\n",
       "  </tbody>\n",
       "</table>\n",
       "</div>"
      ],
      "text/plain": [
       "   Roll No        Name Class  Marks\n",
       "0        1    John Doe  10th     85\n",
       "1        2  Jane Smith  None     90\n",
       "2        3   Sam Brown  10th     78"
      ]
     },
     "execution_count": 42,
     "metadata": {},
     "output_type": "execute_result"
    }
   ],
   "source": [
    "df = pd.DataFrame(students)\n",
    "df"
   ]
  },
  {
   "cell_type": "markdown",
   "id": "47807b82-49c6-46a0-a8c6-55e7b453a0a0",
   "metadata": {},
   "source": [
    "## replace Nan"
   ]
  },
  {
   "cell_type": "code",
   "execution_count": 48,
   "id": "19180c14-71b0-4719-842c-e78a884d9c88",
   "metadata": {},
   "outputs": [
    {
     "data": {
      "text/html": [
       "<div>\n",
       "<style scoped>\n",
       "    .dataframe tbody tr th:only-of-type {\n",
       "        vertical-align: middle;\n",
       "    }\n",
       "\n",
       "    .dataframe tbody tr th {\n",
       "        vertical-align: top;\n",
       "    }\n",
       "\n",
       "    .dataframe thead th {\n",
       "        text-align: right;\n",
       "    }\n",
       "</style>\n",
       "<table border=\"1\" class=\"dataframe\">\n",
       "  <thead>\n",
       "    <tr style=\"text-align: right;\">\n",
       "      <th></th>\n",
       "      <th>Roll No</th>\n",
       "      <th>Name</th>\n",
       "      <th>Class</th>\n",
       "      <th>Marks</th>\n",
       "    </tr>\n",
       "  </thead>\n",
       "  <tbody>\n",
       "    <tr>\n",
       "      <th>0</th>\n",
       "      <td>1</td>\n",
       "      <td>John Doe</td>\n",
       "      <td>10th</td>\n",
       "      <td>85</td>\n",
       "    </tr>\n",
       "    <tr>\n",
       "      <th>1</th>\n",
       "      <td>2</td>\n",
       "      <td>Jane Smith</td>\n",
       "      <td>0</td>\n",
       "      <td>90</td>\n",
       "    </tr>\n",
       "    <tr>\n",
       "      <th>2</th>\n",
       "      <td>3</td>\n",
       "      <td>Sam Brown</td>\n",
       "      <td>10th</td>\n",
       "      <td>78</td>\n",
       "    </tr>\n",
       "  </tbody>\n",
       "</table>\n",
       "</div>"
      ],
      "text/plain": [
       "   Roll No        Name Class  Marks\n",
       "0        1    John Doe  10th     85\n",
       "1        2  Jane Smith     0     90\n",
       "2        3   Sam Brown  10th     78"
      ]
     },
     "execution_count": 48,
     "metadata": {},
     "output_type": "execute_result"
    }
   ],
   "source": [
    "d = df['Class'].fillna(0, inplace=True)\n",
    "df"
   ]
  },
  {
   "cell_type": "markdown",
   "id": "a049c42a-3dd2-4ccb-abad-449ed5d47c83",
   "metadata": {},
   "source": [
    "# Quantile\n",
    "Calculate the Quartiles:\n",
    "\n",
    "Q1 (First Quartile): The 25th percentile of the data.\n",
    "\n",
    "Q3 (Third Quartile): The 75th percentile of the data.\n",
    "Compute the IQR:\n",
    "\n",
    "IQR = 𝑄3 − 𝑄1"
   ]
  },
  {
   "cell_type": "code",
   "execution_count": 50,
   "id": "5cd7ce74-f7be-4642-bc00-89643208c724",
   "metadata": {},
   "outputs": [
    {
     "data": {
      "text/plain": [
       "6.0"
      ]
     },
     "execution_count": 50,
     "metadata": {},
     "output_type": "execute_result"
    }
   ],
   "source": [
    "Q1 = df['Marks'].quantile(0.25)\n",
    "Q3 = df['Marks'].quantile(0.75)\n",
    "\n",
    "IQR = Q3 - Q1\n",
    "IQR"
   ]
  },
  {
   "cell_type": "code",
   "execution_count": 51,
   "id": "b04786ed-54be-41e5-af07-4e80614fb53a",
   "metadata": {},
   "outputs": [],
   "source": [
    "lower_bound = Q1 - 1.5 * IQR\n",
    "upper_bound = Q3 + 1.5 * IQR"
   ]
  },
  {
   "cell_type": "code",
   "execution_count": 53,
   "id": "112152f4-d3f9-45d6-8f4f-0bdb9b701bed",
   "metadata": {},
   "outputs": [],
   "source": [
    "outliers = df[(df['Marks'] < lower_bound) | (df['Marks']>upper_bound)]"
   ]
  },
  {
   "cell_type": "code",
   "execution_count": 54,
   "id": "8980cdd0-facc-4f6b-b73d-b4093ee36490",
   "metadata": {},
   "outputs": [
    {
     "name": "stdout",
     "output_type": "stream",
     "text": [
      "Lower Bound: 72.5\n",
      "Upper Bound: 96.5\n",
      "Outliers:\n",
      "Empty DataFrame\n",
      "Columns: [Roll No, Name, Class, Marks]\n",
      "Index: []\n"
     ]
    }
   ],
   "source": [
    "print(\"Lower Bound:\", lower_bound)\n",
    "print(\"Upper Bound:\", upper_bound)\n",
    "print(\"Outliers:\")\n",
    "print(outliers)"
   ]
  },
  {
   "cell_type": "code",
   "execution_count": null,
   "id": "5cf7fb50-e367-472a-be0a-76d644f01612",
   "metadata": {},
   "outputs": [],
   "source": []
  }
 ],
 "metadata": {
  "kernelspec": {
   "display_name": "Python 3 (ipykernel)",
   "language": "python",
   "name": "python3"
  },
  "language_info": {
   "codemirror_mode": {
    "name": "ipython",
    "version": 3
   },
   "file_extension": ".py",
   "mimetype": "text/x-python",
   "name": "python",
   "nbconvert_exporter": "python",
   "pygments_lexer": "ipython3",
   "version": "3.11.5"
  }
 },
 "nbformat": 4,
 "nbformat_minor": 5
}
