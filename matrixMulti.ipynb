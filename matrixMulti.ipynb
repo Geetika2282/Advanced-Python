{
 "cells": [
  {
   "cell_type": "code",
   "execution_count": 9,
   "id": "632b3d59-2714-4dce-933d-b1cc1345f6b4",
   "metadata": {},
   "outputs": [],
   "source": [
    "import numpy as np"
   ]
  },
  {
   "cell_type": "code",
   "execution_count": 11,
   "id": "de4e4ea4-1996-400b-88d0-e5d815dab197",
   "metadata": {},
   "outputs": [],
   "source": [
    "arr1 = np.random.randint(1, 6, size=(4, 2))"
   ]
  },
  {
   "cell_type": "code",
   "execution_count": 13,
   "id": "2fd01200-484a-4a7a-bd81-d3c038f70177",
   "metadata": {},
   "outputs": [
    {
     "data": {
      "text/plain": [
       "array([[3, 5],\n",
       "       [2, 1],\n",
       "       [5, 2],\n",
       "       [2, 3]])"
      ]
     },
     "execution_count": 13,
     "metadata": {},
     "output_type": "execute_result"
    }
   ],
   "source": [
    "arr1"
   ]
  },
  {
   "cell_type": "code",
   "execution_count": 15,
   "id": "20bb1b24-aad6-4ecd-a5f4-2cf387a931d8",
   "metadata": {},
   "outputs": [],
   "source": [
    "arr2 = np.random.randint(10, 15, size=(2, 3))"
   ]
  },
  {
   "cell_type": "code",
   "execution_count": 17,
   "id": "137872c4-2db9-4e51-a402-3b205ec5cb9a",
   "metadata": {},
   "outputs": [
    {
     "data": {
      "text/plain": [
       "array([[11, 13, 11],\n",
       "       [12, 11, 11]])"
      ]
     },
     "execution_count": 17,
     "metadata": {},
     "output_type": "execute_result"
    }
   ],
   "source": [
    "arr2"
   ]
  },
  {
   "cell_type": "code",
   "execution_count": 19,
   "id": "8946ea72-6162-4128-bc51-783ffa5e446d",
   "metadata": {},
   "outputs": [],
   "source": [
    "pdt = np.matmul(arr1, arr2)"
   ]
  },
  {
   "cell_type": "code",
   "execution_count": 21,
   "id": "9eb6b137-63b9-417a-a847-f164322950d1",
   "metadata": {},
   "outputs": [
    {
     "data": {
      "text/plain": [
       "array([[93, 94, 88],\n",
       "       [34, 37, 33],\n",
       "       [79, 87, 77],\n",
       "       [58, 59, 55]])"
      ]
     },
     "execution_count": 21,
     "metadata": {},
     "output_type": "execute_result"
    }
   ],
   "source": [
    "pdt"
   ]
  },
  {
   "cell_type": "code",
   "execution_count": 23,
   "id": "dd069288-010a-4125-8c16-a03ac639aed0",
   "metadata": {},
   "outputs": [
    {
     "data": {
      "text/plain": [
       "array([[93, 34, 79, 58],\n",
       "       [94, 37, 87, 59],\n",
       "       [88, 33, 77, 55]])"
      ]
     },
     "execution_count": 23,
     "metadata": {},
     "output_type": "execute_result"
    }
   ],
   "source": [
    "np.transpose(pdt)"
   ]
  },
  {
   "cell_type": "code",
   "execution_count": null,
   "id": "7f428994-df74-4946-bebc-3e899a30cadf",
   "metadata": {},
   "outputs": [],
   "source": []
  }
 ],
 "metadata": {
  "kernelspec": {
   "display_name": "Python 3 (ipykernel)",
   "language": "python",
   "name": "python3"
  },
  "language_info": {
   "codemirror_mode": {
    "name": "ipython",
    "version": 3
   },
   "file_extension": ".py",
   "mimetype": "text/x-python",
   "name": "python",
   "nbconvert_exporter": "python",
   "pygments_lexer": "ipython3",
   "version": "3.12.4"
  }
 },
 "nbformat": 4,
 "nbformat_minor": 5
}
