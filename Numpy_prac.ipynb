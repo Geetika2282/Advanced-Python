{
 "cells": [
  {
   "cell_type": "code",
   "execution_count": 1,
   "id": "9b267238-8b47-4b25-92e8-8461ce74b7cd",
   "metadata": {},
   "outputs": [],
   "source": [
    "import numpy as np"
   ]
  },
  {
   "cell_type": "code",
   "execution_count": 2,
   "id": "adaf8a33-6992-44c8-a4c7-65cbf27c4a0a",
   "metadata": {},
   "outputs": [
    {
     "data": {
      "text/plain": [
       "array([ 1,  2,  3,  4,  5,  6,  7,  8,  9, 10, 11, 12, 13, 14, 15, 16, 17,\n",
       "       18, 19, 20])"
      ]
     },
     "execution_count": 2,
     "metadata": {},
     "output_type": "execute_result"
    }
   ],
   "source": [
    "np.arange(1, 21)"
   ]
  },
  {
   "cell_type": "code",
   "execution_count": 5,
   "id": "3189d2b8-7533-4989-97a4-34a0857319d2",
   "metadata": {},
   "outputs": [
    {
     "data": {
      "text/plain": [
       "array([[ 1,  2,  3,  4,  5],\n",
       "       [ 6,  7,  8,  9, 10],\n",
       "       [11, 12, 13, 14, 15],\n",
       "       [16, 17, 18, 19, 20]])"
      ]
     },
     "execution_count": 5,
     "metadata": {},
     "output_type": "execute_result"
    }
   ],
   "source": [
    "np.arange(1, 21).reshape(4, 5)"
   ]
  },
  {
   "cell_type": "code",
   "execution_count": 8,
   "id": "6e371e89-6673-4bc8-9d2a-44a32c75526e",
   "metadata": {},
   "outputs": [
    {
     "data": {
      "text/plain": [
       "array([[4, 6, 2],\n",
       "       [6, 8, 3],\n",
       "       [4, 9, 5]])"
      ]
     },
     "execution_count": 8,
     "metadata": {},
     "output_type": "execute_result"
    }
   ],
   "source": [
    "np.random.randint(1, 10, (3, 3))"
   ]
  },
  {
   "cell_type": "code",
   "execution_count": 13,
   "id": "b17955a5-e132-4469-846d-1f4a5d1f899b",
   "metadata": {},
   "outputs": [],
   "source": [
    "a = np.array([1, 2, 3])\n",
    "b = np.array([[4, 5, 6], [7, 8, 9]])\n",
    "c = np.array([[1, 2, 3], [4, 5, 6], [7, 8, 9]])"
   ]
  },
  {
   "cell_type": "code",
   "execution_count": 15,
   "id": "3472d2aa-6e5e-4974-a290-d271f9543039",
   "metadata": {},
   "outputs": [
    {
     "data": {
      "text/plain": [
       "1"
      ]
     },
     "execution_count": 15,
     "metadata": {},
     "output_type": "execute_result"
    }
   ],
   "source": [
    "a.ndim"
   ]
  },
  {
   "cell_type": "code",
   "execution_count": 16,
   "id": "5f2430e1-6132-41b1-bac3-34f818780374",
   "metadata": {},
   "outputs": [
    {
     "data": {
      "text/plain": [
       "(3,)"
      ]
     },
     "execution_count": 16,
     "metadata": {},
     "output_type": "execute_result"
    }
   ],
   "source": [
    "a.shape"
   ]
  },
  {
   "cell_type": "code",
   "execution_count": 17,
   "id": "a6058eb4-7079-4114-be05-577bb94231c7",
   "metadata": {},
   "outputs": [
    {
     "data": {
      "text/plain": [
       "2"
      ]
     },
     "execution_count": 17,
     "metadata": {},
     "output_type": "execute_result"
    }
   ],
   "source": [
    "b.ndim"
   ]
  },
  {
   "cell_type": "code",
   "execution_count": 18,
   "id": "cbc15231-25e0-467f-9bc2-408e8171d5a3",
   "metadata": {},
   "outputs": [
    {
     "data": {
      "text/plain": [
       "(2, 3)"
      ]
     },
     "execution_count": 18,
     "metadata": {},
     "output_type": "execute_result"
    }
   ],
   "source": [
    "b.shape"
   ]
  },
  {
   "cell_type": "code",
   "execution_count": 19,
   "id": "d4fcb1bb-df4f-4ba7-b8a5-8c1a7dbb1b2b",
   "metadata": {},
   "outputs": [
    {
     "data": {
      "text/plain": [
       "2"
      ]
     },
     "execution_count": 19,
     "metadata": {},
     "output_type": "execute_result"
    }
   ],
   "source": [
    "c.ndim"
   ]
  },
  {
   "cell_type": "code",
   "execution_count": 20,
   "id": "0e1b70fe-0ab6-46e2-9436-4ed99f733e49",
   "metadata": {},
   "outputs": [
    {
     "data": {
      "text/plain": [
       "(3, 3)"
      ]
     },
     "execution_count": 20,
     "metadata": {},
     "output_type": "execute_result"
    }
   ],
   "source": [
    "c.shape"
   ]
  },
  {
   "cell_type": "code",
   "execution_count": 28,
   "id": "b0ec6fb5-8713-4b5c-9454-1a1ab19a6b82",
   "metadata": {},
   "outputs": [],
   "source": [
    "d = np.array([1, 1.25, 45, 77.5, bool(0)])"
   ]
  },
  {
   "cell_type": "code",
   "execution_count": 30,
   "id": "0a1df862-5d2a-4593-83a8-e35307423b2a",
   "metadata": {},
   "outputs": [
    {
     "data": {
      "text/plain": [
       "8"
      ]
     },
     "execution_count": 30,
     "metadata": {},
     "output_type": "execute_result"
    }
   ],
   "source": [
    "d.itemsize"
   ]
  },
  {
   "cell_type": "code",
   "execution_count": 31,
   "id": "680a949c-8606-452a-88e2-d142478202ad",
   "metadata": {},
   "outputs": [],
   "source": [
    "e = np.array([1, 2, 3, 4, 5])"
   ]
  },
  {
   "cell_type": "code",
   "execution_count": 32,
   "id": "6c84fa5d-ae40-4829-8bf9-7cfd2512f2b2",
   "metadata": {},
   "outputs": [
    {
     "data": {
      "text/plain": [
       "4"
      ]
     },
     "execution_count": 32,
     "metadata": {},
     "output_type": "execute_result"
    }
   ],
   "source": [
    "e.itemsize"
   ]
  },
  {
   "cell_type": "code",
   "execution_count": 33,
   "id": "ade2c4cd-38dc-45d4-94a5-1c5f8e5414fa",
   "metadata": {},
   "outputs": [],
   "source": [
    "r = np.random.randint(50, 100, size=(5, 5))"
   ]
  },
  {
   "cell_type": "code",
   "execution_count": 34,
   "id": "c212cf7b-bd11-4ae6-8a79-364c024b6db7",
   "metadata": {},
   "outputs": [
    {
     "data": {
      "text/plain": [
       "array([[65, 76, 80, 99, 66],\n",
       "       [59, 93, 68, 97, 52],\n",
       "       [69, 75, 93, 51, 61],\n",
       "       [67, 82, 70, 55, 92],\n",
       "       [67, 50, 97, 54, 52]])"
      ]
     },
     "execution_count": 34,
     "metadata": {},
     "output_type": "execute_result"
    }
   ],
   "source": [
    "r"
   ]
  },
  {
   "cell_type": "code",
   "execution_count": 40,
   "id": "a782ef3a-6bb1-449b-88e3-87a2b0559264",
   "metadata": {},
   "outputs": [],
   "source": [
    "(r[1:4, 1:4]) = 0"
   ]
  },
  {
   "cell_type": "code",
   "execution_count": 41,
   "id": "45c8ec2c-1201-4957-96ee-54be44fd2cf1",
   "metadata": {},
   "outputs": [
    {
     "data": {
      "text/plain": [
       "array([[65, 76, 80, 99, 66],\n",
       "       [59,  0,  0,  0, 52],\n",
       "       [69,  0,  0,  0, 61],\n",
       "       [67,  0,  0,  0, 92],\n",
       "       [67, 50, 97, 54, 52]])"
      ]
     },
     "execution_count": 41,
     "metadata": {},
     "output_type": "execute_result"
    }
   ],
   "source": [
    "r"
   ]
  },
  {
   "cell_type": "code",
   "execution_count": 42,
   "id": "e648eeb6-c3b9-4041-ab7a-f4edb6aee1f1",
   "metadata": {},
   "outputs": [
    {
     "data": {
      "text/plain": [
       "array([1, 2, 3])"
      ]
     },
     "execution_count": 42,
     "metadata": {},
     "output_type": "execute_result"
    }
   ],
   "source": [
    "a.T"
   ]
  },
  {
   "cell_type": "code",
   "execution_count": 43,
   "id": "53945597-c945-48de-9be8-2634e65afb8c",
   "metadata": {},
   "outputs": [
    {
     "data": {
      "text/plain": [
       "array([[4, 7],\n",
       "       [5, 8],\n",
       "       [6, 9]])"
      ]
     },
     "execution_count": 43,
     "metadata": {},
     "output_type": "execute_result"
    }
   ],
   "source": [
    "b.T"
   ]
  },
  {
   "cell_type": "code",
   "execution_count": 45,
   "id": "a8f06441-ddb6-4fcc-ba25-7109114042bd",
   "metadata": {},
   "outputs": [
    {
     "data": {
      "text/plain": [
       "array([[1., 2., 3.],\n",
       "       [4., 5., 6.],\n",
       "       [7., 8., 9.]])"
      ]
     },
     "execution_count": 45,
     "metadata": {},
     "output_type": "execute_result"
    }
   ],
   "source": [
    "np.genfromtxt('data.csv', delimiter=';', comments='#')"
   ]
  },
  {
   "cell_type": "code",
   "execution_count": 48,
   "id": "d9640acb-2bb5-421f-b277-e100a4f0ceef",
   "metadata": {},
   "outputs": [],
   "source": [
    "sqr = np.arange(1, 17)\n",
    "sqroot = np.sqrt(sqr)"
   ]
  },
  {
   "cell_type": "code",
   "execution_count": 49,
   "id": "9486b4d2-2af9-41e7-95c8-9253cb8127bf",
   "metadata": {},
   "outputs": [],
   "source": [
    "np.savetxt('sqrROot', sqroot, delimiter=';')"
   ]
  },
  {
   "cell_type": "code",
   "execution_count": 57,
   "id": "b06ae49f-4e6a-48a6-a81b-da46fb69f05c",
   "metadata": {},
   "outputs": [
    {
     "data": {
      "text/plain": [
       "array([[ 7, 11],\n",
       "       [21, 23],\n",
       "       [11, 23],\n",
       "       [ 5, 24]])"
      ]
     },
     "execution_count": 57,
     "metadata": {},
     "output_type": "execute_result"
    }
   ],
   "source": [
    "m1 = np.random.randint(5, 25, size=(4, 2))\n",
    "\n",
    "\n",
    "# tr = m1*m2\n",
    "m1"
   ]
  },
  {
   "cell_type": "code",
   "execution_count": 58,
   "id": "3ce73329-08ab-4b63-b641-09f643051e3f",
   "metadata": {},
   "outputs": [],
   "source": [
    "m2 = np.random.randint(1, 15, size=(2, 3))\n"
   ]
  },
  {
   "cell_type": "code",
   "execution_count": 60,
   "id": "c71e6e3f-a259-4eec-b472-8af623f5503c",
   "metadata": {},
   "outputs": [
    {
     "data": {
      "text/plain": [
       "array([[153, 104, 145],\n",
       "       [339, 262, 335],\n",
       "       [309, 192, 285],\n",
       "       [303, 155, 265]])"
      ]
     },
     "execution_count": 60,
     "metadata": {},
     "output_type": "execute_result"
    }
   ],
   "source": [
    "x = np.matmul(m1, m2)\n",
    "x"
   ]
  },
  {
   "cell_type": "code",
   "execution_count": 61,
   "id": "61d2067d-e122-4a66-9628-5daf1bc893e8",
   "metadata": {},
   "outputs": [
    {
     "data": {
      "text/plain": [
       "array([[153, 339, 309, 303],\n",
       "       [104, 262, 192, 155],\n",
       "       [145, 335, 285, 265]])"
      ]
     },
     "execution_count": 61,
     "metadata": {},
     "output_type": "execute_result"
    }
   ],
   "source": [
    "x.T"
   ]
  },
  {
   "cell_type": "code",
   "execution_count": null,
   "id": "7d08bff8-27a1-4b48-9683-4a499b23339c",
   "metadata": {},
   "outputs": [],
   "source": []
  }
 ],
 "metadata": {
  "kernelspec": {
   "display_name": "Python 3 (ipykernel)",
   "language": "python",
   "name": "python3"
  },
  "language_info": {
   "codemirror_mode": {
    "name": "ipython",
    "version": 3
   },
   "file_extension": ".py",
   "mimetype": "text/x-python",
   "name": "python",
   "nbconvert_exporter": "python",
   "pygments_lexer": "ipython3",
   "version": "3.11.5"
  }
 },
 "nbformat": 4,
 "nbformat_minor": 5
}
