{
 "cells": [
  {
   "cell_type": "code",
   "execution_count": 2,
   "id": "879e9b86-2c3a-410b-87c9-992b7f7a30e3",
   "metadata": {},
   "outputs": [],
   "source": [
    "import scipy \n",
    "import numpy as np"
   ]
  },
  {
   "cell_type": "code",
   "execution_count": 15,
   "id": "3154fdab-d87e-4774-a284-2bdcc9ebff16",
   "metadata": {},
   "outputs": [
    {
     "data": {
      "text/plain": [
       "array([[1, 5, 7],\n",
       "       [7, 1, 4],\n",
       "       [3, 7, 7]])"
      ]
     },
     "execution_count": 15,
     "metadata": {},
     "output_type": "execute_result"
    }
   ],
   "source": [
    "m1 = np.random.randint(1, 10, size=(3, 3))\n",
    "m1"
   ]
  },
  {
   "cell_type": "code",
   "execution_count": 17,
   "id": "36e7658f-296c-4e0d-bc75-7cc28f746d66",
   "metadata": {},
   "outputs": [
    {
     "data": {
      "text/plain": [
       "116.00000000000003"
      ]
     },
     "execution_count": 17,
     "metadata": {},
     "output_type": "execute_result"
    }
   ],
   "source": [
    "determinant = scipy.linalg.det(m1)\n",
    "determinant"
   ]
  },
  {
   "cell_type": "code",
   "execution_count": 19,
   "id": "04ad809c-c298-4d6a-aba4-beeb06301e7f",
   "metadata": {},
   "outputs": [
    {
     "data": {
      "text/plain": [
       "array([[-0.18103448,  0.12068966,  0.11206897],\n",
       "       [-0.31896552, -0.12068966,  0.38793103],\n",
       "       [ 0.39655172,  0.06896552, -0.29310345]])"
      ]
     },
     "execution_count": 19,
     "metadata": {},
     "output_type": "execute_result"
    }
   ],
   "source": [
    "inverse = scipy.linalg.inv(m1)\n",
    "inverse"
   ]
  },
  {
   "cell_type": "code",
   "execution_count": 21,
   "id": "cfa398ae-5c7e-4065-86e6-a2f891256438",
   "metadata": {},
   "outputs": [
    {
     "data": {
      "text/plain": [
       "array([[1, 7, 3],\n",
       "       [5, 1, 7],\n",
       "       [7, 4, 7]])"
      ]
     },
     "execution_count": 21,
     "metadata": {},
     "output_type": "execute_result"
    }
   ],
   "source": [
    "# transpose\n",
    "m1.T"
   ]
  },
  {
   "cell_type": "code",
   "execution_count": 26,
   "id": "8c4670a4-3bc5-490e-9854-83316514bcb3",
   "metadata": {},
   "outputs": [
    {
     "data": {
      "text/plain": [
       "(array([[-0.5709194 ,  0.38103838, -0.72722816],\n",
       "        [-0.42617805, -0.89463352, -0.13417576],\n",
       "        [-0.7017288 ,  0.23332513,  0.67315383]]),\n",
       " array([14.55309457,  5.86159374,  1.35983722]),\n",
       " array([[-0.3888762 , -0.56296457, -0.72927786],\n",
       "        [-0.88396111,  0.45104359,  0.12317648],\n",
       "        [ 0.25959211,  0.69255366, -0.6730389 ]]))"
      ]
     },
     "execution_count": 26,
     "metadata": {},
     "output_type": "execute_result"
    }
   ],
   "source": [
    "#  SVD - Singular Value Decomposition (SVD) \n",
    "svd = scipy.linalg.svd(m1)\n",
    "svd"
   ]
  },
  {
   "cell_type": "code",
   "execution_count": 27,
   "id": "588ca5ed-69c0-418c-b9a9-685f313fe0a1",
   "metadata": {},
   "outputs": [
    {
     "data": {
      "text/plain": [
       "(array([14.36534287+0.j        , -2.68267144+0.93715738j,\n",
       "        -2.68267144-0.93715738j]),\n",
       " array([[ 0.54121682+0.j        , -0.11823898+0.16802656j,\n",
       "         -0.11823898-0.16802656j],\n",
       "        [ 0.48833293+0.j        ,  0.81018879+0.j        ,\n",
       "          0.81018879-0.j        ],\n",
       "        [ 0.68455482+0.j        , -0.53899657-0.10422788j,\n",
       "         -0.53899657+0.10422788j]]))"
      ]
     },
     "execution_count": 27,
     "metadata": {},
     "output_type": "execute_result"
    }
   ],
   "source": [
    "# eigen values\n",
    "eig = scipy.linalg.eig(m1)\n",
    "eig"
   ]
  },
  {
   "cell_type": "code",
   "execution_count": null,
   "id": "94c7c4f8-1efa-4bd2-81d5-06d685f9c7f1",
   "metadata": {},
   "outputs": [],
   "source": []
  }
 ],
 "metadata": {
  "kernelspec": {
   "display_name": "Python 3 (ipykernel)",
   "language": "python",
   "name": "python3"
  },
  "language_info": {
   "codemirror_mode": {
    "name": "ipython",
    "version": 3
   },
   "file_extension": ".py",
   "mimetype": "text/x-python",
   "name": "python",
   "nbconvert_exporter": "python",
   "pygments_lexer": "ipython3",
   "version": "3.12.4"
  }
 },
 "nbformat": 4,
 "nbformat_minor": 5
}
