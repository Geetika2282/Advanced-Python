{
 "cells": [
  {
   "cell_type": "code",
   "execution_count": 31,
   "id": "8ca82b56-d04c-4484-ac77-f16b89928e3a",
   "metadata": {},
   "outputs": [],
   "source": [
    "def slice_string(txt):\n",
    "    print(\"First 5: \",txt[:5])\n",
    "    print(\"Last 5: \", txt[-5:])\n",
    "    print(\"Alternate: \", txt[::2])\n",
    "    midInd = (len(txt)//2)\n",
    "    if len(txt)%2==0:\n",
    "        print(txt[midInd-1: midInd+1])\n",
    "    else:\n",
    "        print(txt[midInd-1: midInd+2])"
   ]
  },
  {
   "cell_type": "code",
   "execution_count": 33,
   "id": "048fddf4-ccf4-4d60-b86b-5052d3e594c6",
   "metadata": {},
   "outputs": [
    {
     "name": "stdout",
     "output_type": "stream",
     "text": [
      "First 5:  Hell\n",
      "Last 5:  Hell\n",
      "Alternate:  Hl\n",
      "el\n"
     ]
    }
   ],
   "source": [
    "slice_string(\"Hello\")"
   ]
  },
  {
   "cell_type": "code",
   "execution_count": null,
   "id": "267dfa2b-1563-4682-8e66-26013c61cbf3",
   "metadata": {},
   "outputs": [],
   "source": []
  },
  {
   "cell_type": "code",
   "execution_count": null,
   "id": "e5e094a7-3119-41da-af73-aff94f6ab263",
   "metadata": {},
   "outputs": [],
   "source": []
  }
 ],
 "metadata": {
  "kernelspec": {
   "display_name": "Python 3 (ipykernel)",
   "language": "python",
   "name": "python3"
  },
  "language_info": {
   "codemirror_mode": {
    "name": "ipython",
    "version": 3
   },
   "file_extension": ".py",
   "mimetype": "text/x-python",
   "name": "python",
   "nbconvert_exporter": "python",
   "pygments_lexer": "ipython3",
   "version": "3.12.4"
  }
 },
 "nbformat": 4,
 "nbformat_minor": 5
}
