{
 "cells": [
  {
   "cell_type": "code",
   "execution_count": 2,
   "id": "c012827f-3515-4d38-8ad4-9dea929712a4",
   "metadata": {},
   "outputs": [],
   "source": [
    "import numpy as np"
   ]
  },
  {
   "cell_type": "code",
   "execution_count": 19,
   "id": "77140075-b97d-4f6e-8a29-f0d36e333f29",
   "metadata": {},
   "outputs": [],
   "source": [
    "cont = np.genfromtxt('data_complex.csv', delimiter=';', comments='#')"
   ]
  },
  {
   "cell_type": "code",
   "execution_count": 20,
   "id": "604ea36f-e602-4b11-86d2-54dd4e30e4a5",
   "metadata": {},
   "outputs": [
    {
     "data": {
      "text/plain": [
       "array([[1., 2., 3.],\n",
       "       [4., 5., 6.],\n",
       "       [7., 8., 9.]])"
      ]
     },
     "execution_count": 20,
     "metadata": {},
     "output_type": "execute_result"
    }
   ],
   "source": [
    "cont"
   ]
  },
  {
   "cell_type": "code",
   "execution_count": 17,
   "id": "c31e2e9b-92e3-4b93-8ae7-db0f7dcc0a4e",
   "metadata": {},
   "outputs": [],
   "source": [
    "contxt = np.genfromtxt('data_complex.txt', delimiter=',', comments='#')"
   ]
  },
  {
   "cell_type": "code",
   "execution_count": 18,
   "id": "8e8eb269-4836-4d9c-bcd5-08cf3ff37b30",
   "metadata": {},
   "outputs": [
    {
     "data": {
      "text/plain": [
       "array([nan, nan, nan])"
      ]
     },
     "execution_count": 18,
     "metadata": {},
     "output_type": "execute_result"
    }
   ],
   "source": [
    "contxt"
   ]
  },
  {
   "cell_type": "code",
   "execution_count": 24,
   "id": "059fddf0-8a97-43c2-b8d8-0913dd94e94f",
   "metadata": {},
   "outputs": [],
   "source": [
    "a = np.random.randint(1, 10, size = (4, 2))\n",
    "b = np.random.randint(1, 11, size = (2, 3))"
   ]
  },
  {
   "cell_type": "code",
   "execution_count": 25,
   "id": "65c6d714-7f67-4123-8790-afa287f115e5",
   "metadata": {},
   "outputs": [
    {
     "data": {
      "text/plain": [
       "array([[26, 14, 26],\n",
       "       [87, 43, 97],\n",
       "       [67, 33, 75],\n",
       "       [22, 13, 19]])"
      ]
     },
     "execution_count": 25,
     "metadata": {},
     "output_type": "execute_result"
    }
   ],
   "source": [
    "pdt = np.matmul(a, b)\n",
    "pdt"
   ]
  },
  {
   "cell_type": "code",
   "execution_count": 27,
   "id": "ac20569b-6c94-4a5c-8ddf-4ebd99244c1c",
   "metadata": {},
   "outputs": [
    {
     "data": {
      "text/plain": [
       "array([[26, 87, 67, 22],\n",
       "       [14, 43, 33, 13],\n",
       "       [26, 97, 75, 19]])"
      ]
     },
     "execution_count": 27,
     "metadata": {},
     "output_type": "execute_result"
    }
   ],
   "source": [
    "pdt.T"
   ]
  },
  {
   "cell_type": "code",
   "execution_count": 28,
   "id": "d107be7d-4a62-4546-8edf-0fbfd5f58e33",
   "metadata": {},
   "outputs": [
    {
     "data": {
      "text/plain": [
       "array([ 1,  2,  3,  4,  5,  6,  7,  8,  9, 10, 11, 12, 13, 14, 15, 16])"
      ]
     },
     "execution_count": 28,
     "metadata": {},
     "output_type": "execute_result"
    }
   ],
   "source": [
    "sqr =  np.arange(1, 17)\n",
    "sqr"
   ]
  },
  {
   "cell_type": "code",
   "execution_count": 29,
   "id": "ff97cbaa-8276-4c9b-8d25-60e1e15c7e22",
   "metadata": {},
   "outputs": [],
   "source": [
    "sqRoot = np.sqrt(sqr)"
   ]
  },
  {
   "cell_type": "code",
   "execution_count": 30,
   "id": "c47f7454-fa5c-44c9-94a9-547176331a19",
   "metadata": {},
   "outputs": [
    {
     "data": {
      "text/plain": [
       "array([1.        , 1.41421356, 1.73205081, 2.        , 2.23606798,\n",
       "       2.44948974, 2.64575131, 2.82842712, 3.        , 3.16227766,\n",
       "       3.31662479, 3.46410162, 3.60555128, 3.74165739, 3.87298335,\n",
       "       4.        ])"
      ]
     },
     "execution_count": 30,
     "metadata": {},
     "output_type": "execute_result"
    }
   ],
   "source": [
    "sqRoot"
   ]
  },
  {
   "cell_type": "code",
   "execution_count": 32,
   "id": "fd5f65e4-687f-4c4a-9ba3-c5431bfbf76f",
   "metadata": {},
   "outputs": [],
   "source": [
    "np.savetxt('sqroot.csv', sqRoot, delimiter=',')"
   ]
  },
  {
   "cell_type": "code",
   "execution_count": 36,
   "id": "10ce9778-636d-4be7-9c63-c5337159299f",
   "metadata": {},
   "outputs": [],
   "source": [
    "np.savetxt('sqRoot.csv', np.column_stack((sqr, sqRoot)), \n",
    "           delimiter = ',', \n",
    "           header='NUM, SQROOT', \n",
    "           comments='',\n",
    "           fmt='%d, %.2f')"
   ]
  },
  {
   "cell_type": "code",
   "execution_count": null,
   "id": "45cb2e3e-96d2-41c1-b52a-eb8cf8f88172",
   "metadata": {},
   "outputs": [],
   "source": []
  }
 ],
 "metadata": {
  "kernelspec": {
   "display_name": "Python 3 (ipykernel)",
   "language": "python",
   "name": "python3"
  },
  "language_info": {
   "codemirror_mode": {
    "name": "ipython",
    "version": 3
   },
   "file_extension": ".py",
   "mimetype": "text/x-python",
   "name": "python",
   "nbconvert_exporter": "python",
   "pygments_lexer": "ipython3",
   "version": "3.11.5"
  }
 },
 "nbformat": 4,
 "nbformat_minor": 5
}
