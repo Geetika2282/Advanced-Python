{
 "cells": [
  {
   "cell_type": "code",
   "execution_count": 2,
   "id": "c012827f-3515-4d38-8ad4-9dea929712a4",
   "metadata": {},
   "outputs": [],
   "source": [
    "import numpy as np"
   ]
  },
  {
   "cell_type": "code",
   "execution_count": 19,
   "id": "77140075-b97d-4f6e-8a29-f0d36e333f29",
   "metadata": {},
   "outputs": [],
   "source": [
    "cont = np.genfromtxt('data_complex.csv', delimiter=';', comments='#')"
   ]
  },
  {
   "cell_type": "code",
   "execution_count": 20,
   "id": "604ea36f-e602-4b11-86d2-54dd4e30e4a5",
   "metadata": {},
   "outputs": [
    {
     "data": {
      "text/plain": [
       "array([[1., 2., 3.],\n",
       "       [4., 5., 6.],\n",
       "       [7., 8., 9.]])"
      ]
     },
     "execution_count": 20,
     "metadata": {},
     "output_type": "execute_result"
    }
   ],
   "source": [
    "cont"
   ]
  },
  {
   "cell_type": "code",
   "execution_count": 17,
   "id": "c31e2e9b-92e3-4b93-8ae7-db0f7dcc0a4e",
   "metadata": {},
   "outputs": [],
   "source": [
    "contxt = np.genfromtxt('data_complex.txt', delimiter=',', comments='#')"
   ]
  },
  {
   "cell_type": "code",
   "execution_count": 18,
   "id": "8e8eb269-4836-4d9c-bcd5-08cf3ff37b30",
   "metadata": {},
   "outputs": [
    {
     "data": {
      "text/plain": [
       "array([nan, nan, nan])"
      ]
     },
     "execution_count": 18,
     "metadata": {},
     "output_type": "execute_result"
    }
   ],
   "source": [
    "contxt"
   ]
  },
  {
   "cell_type": "code",
   "execution_count": null,
   "id": "059fddf0-8a97-43c2-b8d8-0913dd94e94f",
   "metadata": {},
   "outputs": [],
   "source": []
  }
 ],
 "metadata": {
  "kernelspec": {
   "display_name": "Python 3 (ipykernel)",
   "language": "python",
   "name": "python3"
  },
  "language_info": {
   "codemirror_mode": {
    "name": "ipython",
    "version": 3
   },
   "file_extension": ".py",
   "mimetype": "text/x-python",
   "name": "python",
   "nbconvert_exporter": "python",
   "pygments_lexer": "ipython3",
   "version": "3.11.5"
  }
 },
 "nbformat": 4,
 "nbformat_minor": 5
}
