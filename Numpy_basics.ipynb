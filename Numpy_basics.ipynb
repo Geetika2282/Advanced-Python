{
 "cells": [
  {
   "cell_type": "markdown",
   "id": "45f6b194-691f-4325-821c-c1648ea4077d",
   "metadata": {},
   "source": [
    "# NumPy\n",
    "### NumPy aims to provide an array object that is upto 50x faster than traditional Python lists"
   ]
  },
  {
   "cell_type": "markdown",
   "id": "390e2a99-b83e-4b00-b6b3-cfdc882181ca",
   "metadata": {},
   "source": [
    "# Why is NumPy Faster Than Lists?\n",
    "NumPy arrays are stored at one continuous place in memory unlike lists, so processes can access and manipulate them very efficiently.\n",
    "This behavior is called locality of reference in computer science.\n",
    "This is the main reason why NumPy is faster than lists. Also it is optimized to work with latest CPU architectures."
   ]
  },
  {
   "cell_type": "code",
   "execution_count": 47,
   "id": "97d736fb-2dbc-4ce9-827c-68e73f15cb50",
   "metadata": {},
   "outputs": [],
   "source": [
    "import numpy as np\n",
    "import pandas as pd"
   ]
  },
  {
   "cell_type": "code",
   "execution_count": 2,
   "id": "f24c528b-e1ef-4382-856e-3ff1a9ceaafa",
   "metadata": {},
   "outputs": [
    {
     "data": {
      "text/plain": [
       "array([1, 2, 3, 4, 5])"
      ]
     },
     "execution_count": 2,
     "metadata": {},
     "output_type": "execute_result"
    }
   ],
   "source": [
    "a1 = np.array([1, 2, 3, 4, 5])\n",
    "a1"
   ]
  },
  {
   "cell_type": "code",
   "execution_count": 3,
   "id": "f4e431b5-5563-4ce1-9e17-4cca85a0659a",
   "metadata": {},
   "outputs": [
    {
     "data": {
      "text/plain": [
       "'1.26.4'"
      ]
     },
     "execution_count": 3,
     "metadata": {},
     "output_type": "execute_result"
    }
   ],
   "source": [
    "np.__version__"
   ]
  },
  {
   "cell_type": "code",
   "execution_count": 5,
   "id": "8bd84c1d-9e88-4cc1-88fc-731d005a1589",
   "metadata": {},
   "outputs": [
    {
     "data": {
      "text/plain": [
       "numpy.ndarray"
      ]
     },
     "execution_count": 5,
     "metadata": {},
     "output_type": "execute_result"
    }
   ],
   "source": [
    "type(a1)"
   ]
  },
  {
   "cell_type": "markdown",
   "id": "73d7bbe7-748b-42ed-995f-0eb9b1b202c2",
   "metadata": {},
   "source": [
    "type(): This built-in Python function tells us the type of the object passed to it. Like in above code it shows that arr is numpy.ndarray type."
   ]
  },
  {
   "cell_type": "code",
   "execution_count": 6,
   "id": "b29c527b-223f-4e1e-b488-6acab7ccabba",
   "metadata": {},
   "outputs": [
    {
     "data": {
      "text/plain": [
       "array([1, 5, 8, 9])"
      ]
     },
     "execution_count": 6,
     "metadata": {},
     "output_type": "execute_result"
    }
   ],
   "source": [
    "a2 = np.array((1, 5, 8, 9))\n",
    "a2"
   ]
  },
  {
   "cell_type": "markdown",
   "id": "ee1f3088-62f8-4147-a725-32bfaee6b87a",
   "metadata": {},
   "source": [
    "0-D arrays: Scalors\n",
    "1-D arrays: Vectors\n",
    "2-D arrays: Matrices\n",
    "3-D arrays: Tensors"
   ]
  },
  {
   "cell_type": "code",
   "execution_count": 9,
   "id": "60965079-a5e6-415d-93ce-08712947eb9a",
   "metadata": {},
   "outputs": [
    {
     "name": "stdout",
     "output_type": "stream",
     "text": [
      "0\n",
      "1\n",
      "1\n",
      "2\n",
      "3\n"
     ]
    }
   ],
   "source": [
    "# Check number of dimensions\n",
    "a = np.array(42)\n",
    "a1 = np.array([4])\n",
    "b = np.array([1, 2, 3, 4, 5])\n",
    "c = np.array([[1, 2, 3], [4, 5, 6]])\n",
    "d = np.array([[[1, 2, 3], [4, 5, 6]], [[1, 2, 3], [4, 5, 6]]])\n",
    "\n",
    "print(a.ndim)\n",
    "print(a1.ndim)\n",
    "print(b.ndim)\n",
    "print(c.ndim)\n",
    "print(d.ndim)"
   ]
  },
  {
   "cell_type": "code",
   "execution_count": 18,
   "id": "af9dbb5d-b4d1-4af1-bcad-fc76717f3f5e",
   "metadata": {},
   "outputs": [
    {
     "data": {
      "text/plain": [
       "array([1, 4, 5, 7, 8])"
      ]
     },
     "execution_count": 18,
     "metadata": {},
     "output_type": "execute_result"
    }
   ],
   "source": [
    "d5 = np.array([1, 4, 5, 7, 8]).reshape(5, )\n",
    "d5\n",
    "# The ndim attribute in NumPy is used to return the number of dimensions of an array, not to define the shape of an array. To define the shape of an array, you can use the reshape() method or specify the shape directly when creating an array using functions like np.zeros(), np.ones(), or np.random.rand()."
   ]
  },
  {
   "cell_type": "code",
   "execution_count": 20,
   "id": "7c9a0bf0-7116-415e-8dfd-425c53dd7e90",
   "metadata": {},
   "outputs": [
    {
     "data": {
      "text/plain": [
       "array([[[[[ 1, 55, 88]]]]])"
      ]
     },
     "execution_count": 20,
     "metadata": {},
     "output_type": "execute_result"
    }
   ],
   "source": [
    "# ndmin\n",
    "np.array([1, 55, 88], ndmin=5)"
   ]
  },
  {
   "cell_type": "markdown",
   "id": "d9ec0246-ab5c-430b-8e4d-e38a445f2e70",
   "metadata": {},
   "source": [
    "### Access array elements"
   ]
  },
  {
   "cell_type": "code",
   "execution_count": 22,
   "id": "46d34e5f-5481-4d7b-b03a-4cf5cbdf963d",
   "metadata": {},
   "outputs": [
    {
     "data": {
      "text/plain": [
       "array([4, 5, 8, 1])"
      ]
     },
     "execution_count": 22,
     "metadata": {},
     "output_type": "execute_result"
    }
   ],
   "source": [
    "a3 = np.array([4, 5, 8, 1])\n",
    "a3"
   ]
  },
  {
   "cell_type": "code",
   "execution_count": 23,
   "id": "5ecd947a-44dd-431c-b787-192291c6ed8a",
   "metadata": {},
   "outputs": [
    {
     "data": {
      "text/plain": [
       "5"
      ]
     },
     "execution_count": 23,
     "metadata": {},
     "output_type": "execute_result"
    }
   ],
   "source": [
    "a3[1]"
   ]
  },
  {
   "cell_type": "code",
   "execution_count": 24,
   "id": "943a528a-d99e-4a87-b581-43ce4ffada67",
   "metadata": {},
   "outputs": [
    {
     "data": {
      "text/plain": [
       "array([[ 1,  2,  3,  4,  5],\n",
       "       [ 6,  7,  8,  9, 10]])"
      ]
     },
     "execution_count": 24,
     "metadata": {},
     "output_type": "execute_result"
    }
   ],
   "source": [
    "a4 = np.array([[1,2,3,4,5], [6,7,8,9,10]])\n",
    "a4"
   ]
  },
  {
   "cell_type": "code",
   "execution_count": 25,
   "id": "9c0e35a1-5889-4185-b05a-de221b806a97",
   "metadata": {},
   "outputs": [
    {
     "data": {
      "text/plain": [
       "10"
      ]
     },
     "execution_count": 25,
     "metadata": {},
     "output_type": "execute_result"
    }
   ],
   "source": [
    "a4[1, 4]"
   ]
  },
  {
   "cell_type": "code",
   "execution_count": 26,
   "id": "6230dccf-3df4-4228-827b-a91b39eed6c3",
   "metadata": {},
   "outputs": [
    {
     "data": {
      "text/plain": [
       "array([7, 8])"
      ]
     },
     "execution_count": 26,
     "metadata": {},
     "output_type": "execute_result"
    }
   ],
   "source": [
    "# Slicing array\n",
    "a5 = np.array([[1, 2, 3, 4, 5], [6, 7, 8, 9, 10]])\n",
    "a5[1, 1:3]"
   ]
  },
  {
   "cell_type": "code",
   "execution_count": 28,
   "id": "44870447-bb76-413d-af06-7730d08ebb54",
   "metadata": {},
   "outputs": [
    {
     "data": {
      "text/plain": [
       "array([3, 8])"
      ]
     },
     "execution_count": 28,
     "metadata": {},
     "output_type": "execute_result"
    }
   ],
   "source": [
    "# printing 2nd element from both subarrays\n",
    "a6 = np.array([[1, 2, 3, 4, 5], [6, 7, 8, 9, 10]])\n",
    "(a6[0:2, 2])"
   ]
  },
  {
   "cell_type": "markdown",
   "id": "9a7b99f5-383a-4775-bf3c-fa97a4b93cfb",
   "metadata": {},
   "source": [
    "### Reshaping"
   ]
  },
  {
   "cell_type": "code",
   "execution_count": 30,
   "id": "c16cac5e-e19e-4a13-9f3a-1b5070ab786b",
   "metadata": {},
   "outputs": [
    {
     "data": {
      "text/plain": [
       "array([[[ 1,  2],\n",
       "        [ 3,  4],\n",
       "        [ 5,  6]],\n",
       "\n",
       "       [[ 7,  8],\n",
       "        [ 9, 10],\n",
       "        [11, 12]]])"
      ]
     },
     "execution_count": 30,
     "metadata": {},
     "output_type": "execute_result"
    }
   ],
   "source": [
    "arr = np.array([1, 2, 3, 4, 5, 6, 7, 8, 9, 10, 11, 12])\n",
    "newarr = arr.reshape(2, 3, 2)\n",
    "# 1st arguement - number of blocks\n",
    "# 2nd arguement - number of rows per block\n",
    "# 3rd arguement = numbers of elements per row\n",
    "newarr"
   ]
  },
  {
   "cell_type": "markdown",
   "id": "06aabf1a-b082-4f76-8e08-af94bec6e4f7",
   "metadata": {},
   "source": [
    "## Converting a 2D array to 1D"
   ]
  },
  {
   "cell_type": "code",
   "execution_count": 31,
   "id": "fe427985-9979-430c-a67e-dcdcba5c124c",
   "metadata": {},
   "outputs": [
    {
     "data": {
      "text/plain": [
       "array([[1, 2, 3],\n",
       "       [4, 5, 6]])"
      ]
     },
     "execution_count": 31,
     "metadata": {},
     "output_type": "execute_result"
    }
   ],
   "source": [
    "a6 = np.array([[1, 2, 3], [4, 5, 6]])\n",
    "a6"
   ]
  },
  {
   "cell_type": "code",
   "execution_count": 32,
   "id": "19adabe6-dcb7-4272-acac-457dcecc4ce7",
   "metadata": {},
   "outputs": [
    {
     "data": {
      "text/plain": [
       "array([1, 2, 3, 4, 5, 6])"
      ]
     },
     "execution_count": 32,
     "metadata": {},
     "output_type": "execute_result"
    }
   ],
   "source": [
    "a6.reshape(-1)"
   ]
  },
  {
   "cell_type": "code",
   "execution_count": 33,
   "id": "36164bfb-7095-4dd5-9457-8126f71535eb",
   "metadata": {},
   "outputs": [
    {
     "name": "stdout",
     "output_type": "stream",
     "text": [
      "1\n",
      "2\n",
      "3\n"
     ]
    }
   ],
   "source": [
    "# Iterating over 1-D array\n",
    "a7 = np.array([1, 2, 3])\n",
    "\n",
    "for x in a7:\n",
    "  print(x)"
   ]
  },
  {
   "cell_type": "code",
   "execution_count": 34,
   "id": "23f78b32-59b3-449f-922d-a8f448d59ebb",
   "metadata": {},
   "outputs": [
    {
     "name": "stdout",
     "output_type": "stream",
     "text": [
      "1\n",
      "2\n",
      "3\n",
      "4\n",
      "5\n",
      "6\n"
     ]
    }
   ],
   "source": [
    "# Iterating over 2-D array\n",
    "a8 = np.array([[1, 2, 3], [4, 5, 6]])\n",
    "for x in a8:\n",
    "    for y in x:\n",
    "        print(y)\n"
   ]
  },
  {
   "cell_type": "code",
   "execution_count": 36,
   "id": "30caa7f4-73c1-4cea-a3ad-24692b3ba0fa",
   "metadata": {},
   "outputs": [
    {
     "data": {
      "text/plain": [
       "array([1, 2, 3, 5, 6, 7])"
      ]
     },
     "execution_count": 36,
     "metadata": {},
     "output_type": "execute_result"
    }
   ],
   "source": [
    "ar1 = np.array([1, 2, 3])\n",
    "ar2 = np.array([5, 6, 7])\n",
    "\n",
    "ar12 = np.concatenate((ar1, ar2))\n",
    "ar12"
   ]
  },
  {
   "cell_type": "code",
   "execution_count": 38,
   "id": "1d969083-4805-4701-9dfd-ee7551a28458",
   "metadata": {},
   "outputs": [
    {
     "data": {
      "text/plain": [
       "[array([1, 2]), array([3, 4]), array([5, 6])]"
      ]
     },
     "execution_count": 38,
     "metadata": {},
     "output_type": "execute_result"
    }
   ],
   "source": [
    "a9 = np.array([1, 2, 3, 4, 5, 6])\n",
    "newarr = np.array_split(a9, 3)\n",
    "newarr"
   ]
  },
  {
   "cell_type": "code",
   "execution_count": 40,
   "id": "df2de442-529d-46f2-827f-c21e99695366",
   "metadata": {},
   "outputs": [
    {
     "data": {
      "text/plain": [
       "array([[ 0,  1,  2,  3,  4],\n",
       "       [ 5,  6,  7,  8,  9],\n",
       "       [10, 11, 12, 13, 14],\n",
       "       [15, 16, 17, 18, 19],\n",
       "       [20, 21, 22, 23, 24],\n",
       "       [25, 26, 27, 28, 29],\n",
       "       [30, 31, 32, 33, 34],\n",
       "       [35, 36, 37, 38, 39],\n",
       "       [40, 41, 42, 43, 44],\n",
       "       [45, 46, 47, 48, 49]])"
      ]
     },
     "execution_count": 40,
     "metadata": {},
     "output_type": "execute_result"
    }
   ],
   "source": [
    "a10 = np.arange(50).reshape(10, 5)\n",
    "a10"
   ]
  },
  {
   "cell_type": "code",
   "execution_count": 41,
   "id": "3c77bf0f-f801-42bd-a59e-9d38232f2344",
   "metadata": {},
   "outputs": [
    {
     "data": {
      "text/plain": [
       "array([[3, 5, 6],\n",
       "       [3, 0, 3],\n",
       "       [4, 1, 6]])"
      ]
     },
     "execution_count": 41,
     "metadata": {},
     "output_type": "execute_result"
    }
   ],
   "source": [
    "a11 = np.random.randint(9, size=(3, 3))\n",
    "a11"
   ]
  },
  {
   "cell_type": "markdown",
   "id": "8a1e2f14-9672-4f72-893e-154f2bb022fe",
   "metadata": {},
   "source": [
    "### Eigen values and Eigen vectors"
   ]
  },
  {
   "cell_type": "code",
   "execution_count": 44,
   "id": "94aab23c-f331-4ddc-a4cd-e49444c13993",
   "metadata": {},
   "outputs": [],
   "source": [
    "eiVa, eiVe = np.linalg.eig(a11)"
   ]
  },
  {
   "cell_type": "code",
   "execution_count": 52,
   "id": "c1cdb8fc-9d72-4bd2-8aa1-0fc51538e9d4",
   "metadata": {},
   "outputs": [
    {
     "data": {
      "text/html": [
       "<div>\n",
       "<style scoped>\n",
       "    .dataframe tbody tr th:only-of-type {\n",
       "        vertical-align: middle;\n",
       "    }\n",
       "\n",
       "    .dataframe tbody tr th {\n",
       "        vertical-align: top;\n",
       "    }\n",
       "\n",
       "    .dataframe thead th {\n",
       "        text-align: right;\n",
       "    }\n",
       "</style>\n",
       "<table border=\"1\" class=\"dataframe\">\n",
       "  <thead>\n",
       "    <tr style=\"text-align: right;\">\n",
       "      <th></th>\n",
       "      <th>EigenVal</th>\n",
       "      <th>Eigenvector 1</th>\n",
       "      <th>Eigenvector 2</th>\n",
       "      <th>Eigenvector 3</th>\n",
       "    </tr>\n",
       "  </thead>\n",
       "  <tbody>\n",
       "    <tr>\n",
       "      <th>0</th>\n",
       "      <td>11.007084</td>\n",
       "      <td>-0.692839</td>\n",
       "      <td>-0.786939</td>\n",
       "      <td>-0.693158</td>\n",
       "    </tr>\n",
       "    <tr>\n",
       "      <th>1</th>\n",
       "      <td>-2.710867</td>\n",
       "      <td>-0.359243</td>\n",
       "      <td>0.539512</td>\n",
       "      <td>-0.400668</td>\n",
       "    </tr>\n",
       "    <tr>\n",
       "      <th>2</th>\n",
       "      <td>0.703783</td>\n",
       "      <td>-0.625234</td>\n",
       "      <td>0.299424</td>\n",
       "      <td>0.599164</td>\n",
       "    </tr>\n",
       "  </tbody>\n",
       "</table>\n",
       "</div>"
      ],
      "text/plain": [
       "    EigenVal  Eigenvector 1  Eigenvector 2  Eigenvector 3\n",
       "0  11.007084      -0.692839      -0.786939      -0.693158\n",
       "1  -2.710867      -0.359243       0.539512      -0.400668\n",
       "2   0.703783      -0.625234       0.299424       0.599164"
      ]
     },
     "execution_count": 52,
     "metadata": {},
     "output_type": "execute_result"
    }
   ],
   "source": [
    "eval = pd.DataFrame(eiVa, columns=['EigenVal'])\n",
    "evec = pd.DataFrame(eiVe, columns=[f'Eigenvector {i+1}' for i in range(eiVe.shape[1])])\n",
    "res = pd.concat([eval, evec], axis=1)\n",
    "res"
   ]
  },
  {
   "cell_type": "code",
   "execution_count": null,
   "id": "ba7a1213-e961-4f53-8756-894e33024799",
   "metadata": {},
   "outputs": [],
   "source": []
  }
 ],
 "metadata": {
  "kernelspec": {
   "display_name": "Python 3 (ipykernel)",
   "language": "python",
   "name": "python3"
  },
  "language_info": {
   "codemirror_mode": {
    "name": "ipython",
    "version": 3
   },
   "file_extension": ".py",
   "mimetype": "text/x-python",
   "name": "python",
   "nbconvert_exporter": "python",
   "pygments_lexer": "ipython3",
   "version": "3.11.5"
  }
 },
 "nbformat": 4,
 "nbformat_minor": 5
}
