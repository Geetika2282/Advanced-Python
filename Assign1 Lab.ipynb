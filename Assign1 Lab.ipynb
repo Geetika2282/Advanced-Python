{
 "cells": [
  {
   "cell_type": "code",
   "execution_count": 1,
   "id": "0ce1b366-0525-4c53-8140-5bcb334bdefa",
   "metadata": {},
   "outputs": [],
   "source": [
    "import numpy as np"
   ]
  },
  {
   "cell_type": "code",
   "execution_count": 2,
   "id": "0e461983-a8bf-43ff-a427-86b77e25f056",
   "metadata": {},
   "outputs": [
    {
     "data": {
      "text/plain": [
       "'1.26.4'"
      ]
     },
     "execution_count": 2,
     "metadata": {},
     "output_type": "execute_result"
    }
   ],
   "source": [
    "# 1. numpy version\n",
    "np.__version__"
   ]
  },
  {
   "cell_type": "code",
   "execution_count": 3,
   "id": "73e822b5-ea47-446f-a309-1c9a7f6ea8bf",
   "metadata": {},
   "outputs": [
    {
     "data": {
      "text/plain": [
       "<function numpy.__config__.show(mode='stdout')>"
      ]
     },
     "execution_count": 3,
     "metadata": {},
     "output_type": "execute_result"
    }
   ],
   "source": [
    "# 1. numpy congig\n",
    "np.show_config"
   ]
  },
  {
   "cell_type": "code",
   "execution_count": 4,
   "id": "6f89aa29-0791-4763-933b-96cc0f3acb52",
   "metadata": {},
   "outputs": [
    {
     "data": {
      "text/plain": [
       "array([5, 7, 9])"
      ]
     },
     "execution_count": 4,
     "metadata": {},
     "output_type": "execute_result"
    }
   ],
   "source": [
    "# 2. add two numpy arrays\n",
    "arr1 = np.array([1,2,3])\n",
    "arr2 = np.array([4,5,6])\n",
    "arr1+arr2\n"
   ]
  },
  {
   "cell_type": "code",
   "execution_count": 5,
   "id": "d5898e0f-6200-408e-9d83-da2b5af61858",
   "metadata": {},
   "outputs": [],
   "source": [
    "arr = np.array([1, 4, 5, 0, -8, 0, 0, 5, 0, 4, -9])"
   ]
  },
  {
   "cell_type": "code",
   "execution_count": 6,
   "id": "fe34d224-04a1-4442-8883-4ed0d8eec5d7",
   "metadata": {},
   "outputs": [
    {
     "data": {
      "text/plain": [
       "array([ 1,  4,  5, -8,  5,  4, -9])"
      ]
     },
     "execution_count": 6,
     "metadata": {},
     "output_type": "execute_result"
    }
   ],
   "source": [
    "# 3. none element element is zero\n",
    "arr[arr!=0]"
   ]
  },
  {
   "cell_type": "code",
   "execution_count": 7,
   "id": "6b4b906d-9209-4f6e-86b1-2fdcd4fffb61",
   "metadata": {},
   "outputs": [
    {
     "data": {
      "text/plain": [
       "array([ 1,  4,  5, -8,  5,  4, -9])"
      ]
     },
     "execution_count": 7,
     "metadata": {},
     "output_type": "execute_result"
    }
   ],
   "source": [
    "# 4. non-zero elements\n",
    "arr[arr!=0]"
   ]
  },
  {
   "cell_type": "code",
   "execution_count": 8,
   "id": "e4451cb6-4e6d-4612-94d6-be6483a1af15",
   "metadata": {},
   "outputs": [
    {
     "data": {
      "text/plain": [
       "array([ True,  True,  True,  True,  True])"
      ]
     },
     "execution_count": 8,
     "metadata": {},
     "output_type": "execute_result"
    }
   ],
   "source": [
    "# 5.  check if finite\n",
    "arr = np.array([4, 5, 7, 888888888888888, 0])\n",
    "np.isfinite(arr)"
   ]
  },
  {
   "cell_type": "code",
   "execution_count": 64,
   "id": "eeb8aa93-2c2e-44ee-b3cc-dfce2a4f7abf",
   "metadata": {},
   "outputs": [
    {
     "data": {
      "text/plain": [
       "True"
      ]
     },
     "execution_count": 64,
     "metadata": {},
     "output_type": "execute_result"
    }
   ],
   "source": [
    "# 6. element wise positive or negative infinity\n",
    "np.isneginf(-np.inf)"
   ]
  },
  {
   "cell_type": "code",
   "execution_count": 10,
   "id": "d827c2ad-5e51-4a3c-8e5c-c2158111ed67",
   "metadata": {},
   "outputs": [
    {
     "data": {
      "text/plain": [
       "True"
      ]
     },
     "execution_count": 10,
     "metadata": {},
     "output_type": "execute_result"
    }
   ],
   "source": [
    "np.isposinf(np.inf)"
   ]
  },
  {
   "cell_type": "code",
   "execution_count": 71,
   "id": "7e8a06fc-6918-4688-beff-83529e0a4055",
   "metadata": {},
   "outputs": [
    {
     "data": {
      "text/plain": [
       "array([False, False, False,  True, False])"
      ]
     },
     "execution_count": 71,
     "metadata": {},
     "output_type": "execute_result"
    }
   ],
   "source": [
    "# 7.NAN of array\n",
    "arr = np.array([4, 5, 7, np.nan, 0])\n",
    "np.isnan(arr)"
   ]
  },
  {
   "cell_type": "code",
   "execution_count": 12,
   "id": "972861da-658e-4f48-a79d-3a232f05f361",
   "metadata": {},
   "outputs": [
    {
     "data": {
      "text/plain": [
       "array([ True,  True, False, False])"
      ]
     },
     "execution_count": 12,
     "metadata": {},
     "output_type": "execute_result"
    }
   ],
   "source": [
    "# 8. test whether complex, real number\n",
    "arr = np.array([1+1j, 2+5j, 4, 7])\n",
    "np.iscomplex(arr)"
   ]
  },
  {
   "cell_type": "code",
   "execution_count": 13,
   "id": "629ce938-721d-4774-a52a-7d6691279ca3",
   "metadata": {},
   "outputs": [
    {
     "data": {
      "text/plain": [
       "array([False,  True,  True, False])"
      ]
     },
     "execution_count": 13,
     "metadata": {},
     "output_type": "execute_result"
    }
   ],
   "source": [
    "arr = np.array([1+7j, 4.555, 2, 1j])\n",
    "np.isreal(arr)"
   ]
  },
  {
   "cell_type": "code",
   "execution_count": 14,
   "id": "6b36ae63-c697-49c9-837a-b4088427f21c",
   "metadata": {},
   "outputs": [
    {
     "data": {
      "text/plain": [
       "array([False, False,  True])"
      ]
     },
     "execution_count": 14,
     "metadata": {},
     "output_type": "execute_result"
    }
   ],
   "source": [
    "#9. element wise comparison\n",
    "arr1 = np.array([4, 2, 5])\n",
    "arr2 = np.array([7, 2, 1])\n",
    "\n",
    "np.greater(arr1, arr2)"
   ]
  },
  {
   "cell_type": "code",
   "execution_count": 15,
   "id": "3d7e68c9-c646-4799-b52d-f5ee4bbe5a6d",
   "metadata": {},
   "outputs": [
    {
     "data": {
      "text/plain": [
       "array([False,  True,  True])"
      ]
     },
     "execution_count": 15,
     "metadata": {},
     "output_type": "execute_result"
    }
   ],
   "source": [
    "np.greater_equal(arr1, arr2)"
   ]
  },
  {
   "cell_type": "code",
   "execution_count": 16,
   "id": "6b908f00-86e9-4523-b660-b876ea0810b0",
   "metadata": {},
   "outputs": [
    {
     "data": {
      "text/plain": [
       "array([ True, False, False])"
      ]
     },
     "execution_count": 16,
     "metadata": {},
     "output_type": "execute_result"
    }
   ],
   "source": [
    "np.less(arr1, arr2)"
   ]
  },
  {
   "cell_type": "code",
   "execution_count": 17,
   "id": "a2ff67d9-bd5b-49d5-89c7-f3b2e4721e2f",
   "metadata": {},
   "outputs": [
    {
     "data": {
      "text/plain": [
       "array([ True,  True, False])"
      ]
     },
     "execution_count": 17,
     "metadata": {},
     "output_type": "execute_result"
    }
   ],
   "source": [
    "np.less_equal(arr1, arr2)"
   ]
  },
  {
   "cell_type": "code",
   "execution_count": 18,
   "id": "51b925e7-adad-4c1d-bff6-51428e3cb6ba",
   "metadata": {},
   "outputs": [
    {
     "data": {
      "text/plain": [
       "16"
      ]
     },
     "execution_count": 18,
     "metadata": {},
     "output_type": "execute_result"
    }
   ],
   "source": [
    "#10. write a program to check size of memory occupied by array\n",
    "arr = np.array([1, 7, 13, 105])\n",
    "# arr.size # gives count of elements\n",
    "arr.nbytes"
   ]
  },
  {
   "cell_type": "code",
   "execution_count": 19,
   "id": "cacd5631-dcb2-4996-8f4f-aebff16024aa",
   "metadata": {},
   "outputs": [
    {
     "data": {
      "text/plain": [
       "array([0., 0., 0., 0., 0., 0., 0., 0., 0., 0.])"
      ]
     },
     "execution_count": 19,
     "metadata": {},
     "output_type": "execute_result"
    }
   ],
   "source": [
    "#11.array of 10 zeros\n",
    "zero = np.zeros(10)\n",
    "zero"
   ]
  },
  {
   "cell_type": "code",
   "execution_count": 20,
   "id": "8b23c097-3e50-4760-a086-f02f0112e257",
   "metadata": {},
   "outputs": [
    {
     "data": {
      "text/plain": [
       "array([1., 1., 1., 1., 1., 1., 1., 1., 1., 1.])"
      ]
     },
     "execution_count": 20,
     "metadata": {},
     "output_type": "execute_result"
    }
   ],
   "source": [
    "# array of 10 ones\n",
    "one = np.ones(10)\n",
    "one"
   ]
  },
  {
   "cell_type": "code",
   "execution_count": 21,
   "id": "c240c10e-6d64-40bd-97a1-f805205a4574",
   "metadata": {},
   "outputs": [],
   "source": [
    "# array of 10 fives\n",
    "one = np.ones(10)\n",
    "five = [one*5]"
   ]
  },
  {
   "cell_type": "code",
   "execution_count": 22,
   "id": "c60386eb-dec4-4c11-8f4f-0b8594eb25c8",
   "metadata": {},
   "outputs": [
    {
     "data": {
      "text/plain": [
       "[array([5., 5., 5., 5., 5., 5., 5., 5., 5., 5.])]"
      ]
     },
     "execution_count": 22,
     "metadata": {},
     "output_type": "execute_result"
    }
   ],
   "source": [
    "five"
   ]
  },
  {
   "cell_type": "code",
   "execution_count": 23,
   "id": "104bf6fd-5905-4fea-ace2-d99d441985a9",
   "metadata": {},
   "outputs": [
    {
     "data": {
      "text/plain": [
       "array([30, 31, 32, 33, 34, 35, 36, 37, 38, 39, 40, 41, 42, 43, 44, 45, 46,\n",
       "       47, 48, 49, 50, 51, 52, 53, 54, 55, 56, 57, 58, 59, 60, 61, 62, 63,\n",
       "       64, 65, 66, 67, 68, 69, 70])"
      ]
     },
     "execution_count": 23,
     "metadata": {},
     "output_type": "execute_result"
    }
   ],
   "source": [
    "# 12. array from 30 to 70\n",
    "arr2 = np.arange(30, 71)\n",
    "arr2"
   ]
  },
  {
   "cell_type": "code",
   "execution_count": 24,
   "id": "cb6a5312-aa9e-4a86-8521-b1b9f7236c51",
   "metadata": {},
   "outputs": [
    {
     "data": {
      "text/plain": [
       "array([30, 32, 34, 36, 38, 40, 42, 44, 46, 48, 50, 52, 54, 56, 58, 60, 62,\n",
       "       64, 66, 68, 70])"
      ]
     },
     "execution_count": 24,
     "metadata": {},
     "output_type": "execute_result"
    }
   ],
   "source": [
    "# 13. even integers from 30 to 70\n",
    "arr = np.arange(30, 71)\n",
    "arr[arr%2==0]"
   ]
  },
  {
   "cell_type": "code",
   "execution_count": 25,
   "id": "8f162638-d215-48d2-9627-a38c3546bb35",
   "metadata": {},
   "outputs": [
    {
     "data": {
      "text/plain": [
       "array([[1., 0., 0.],\n",
       "       [0., 1., 0.],\n",
       "       [0., 0., 1.]])"
      ]
     },
     "execution_count": 25,
     "metadata": {},
     "output_type": "execute_result"
    }
   ],
   "source": [
    "# 14 3x3 identity\n",
    "np.identity(3)"
   ]
  },
  {
   "cell_type": "code",
   "execution_count": 26,
   "id": "13b1617a-fa10-4428-8b7c-b5efba1bbdc3",
   "metadata": {},
   "outputs": [
    {
     "data": {
      "text/plain": [
       "array([0.        , 0.02040816, 0.04081633, 0.06122449, 0.08163265,\n",
       "       0.10204082, 0.12244898, 0.14285714, 0.16326531, 0.18367347,\n",
       "       0.20408163, 0.2244898 , 0.24489796, 0.26530612, 0.28571429,\n",
       "       0.30612245, 0.32653061, 0.34693878, 0.36734694, 0.3877551 ,\n",
       "       0.40816327, 0.42857143, 0.44897959, 0.46938776, 0.48979592,\n",
       "       0.51020408, 0.53061224, 0.55102041, 0.57142857, 0.59183673,\n",
       "       0.6122449 , 0.63265306, 0.65306122, 0.67346939, 0.69387755,\n",
       "       0.71428571, 0.73469388, 0.75510204, 0.7755102 , 0.79591837,\n",
       "       0.81632653, 0.83673469, 0.85714286, 0.87755102, 0.89795918,\n",
       "       0.91836735, 0.93877551, 0.95918367, 0.97959184, 1.        ])"
      ]
     },
     "execution_count": 26,
     "metadata": {},
     "output_type": "execute_result"
    }
   ],
   "source": [
    "# 15. random number between 0 and 1\n",
    "np.linspace(0, 1)"
   ]
  },
  {
   "cell_type": "code",
   "execution_count": 27,
   "id": "58143b2a-4f99-4f26-8d75-6af382a0784d",
   "metadata": {},
   "outputs": [
    {
     "data": {
      "text/plain": [
       "10"
      ]
     },
     "execution_count": 27,
     "metadata": {},
     "output_type": "execute_result"
    }
   ],
   "source": [
    "# 16. random number, standard normal distribution\n",
    "np.random.randint(15)"
   ]
  },
  {
   "cell_type": "code",
   "execution_count": 28,
   "id": "761904c9-6d67-4300-aeed-46e8002803a3",
   "metadata": {},
   "outputs": [
    {
     "data": {
      "text/plain": [
       "array([16, 17, 18, 19, 20, 21, 22, 23, 24, 25, 26, 27, 28, 29, 30, 31, 32,\n",
       "       33, 34, 35, 36, 37, 38, 39, 40, 41, 42, 43, 44, 45, 46, 47, 48, 49,\n",
       "       50, 51, 52, 53, 54])"
      ]
     },
     "execution_count": 28,
     "metadata": {},
     "output_type": "execute_result"
    }
   ],
   "source": [
    "# 17. 15 to 55, excluding 1st and last \n",
    "arr = np.arange(15, 56)\n",
    "arr[1: -1]"
   ]
  },
  {
   "cell_type": "code",
   "execution_count": 29,
   "id": "c3578d50-8a1b-495e-adb1-00d849609032",
   "metadata": {},
   "outputs": [
    {
     "data": {
      "text/plain": [
       "array([[10,  6, 12,  9],\n",
       "       [ 5,  6,  4,  2],\n",
       "       [ 7,  1,  3,  7]])"
      ]
     },
     "execution_count": 29,
     "metadata": {},
     "output_type": "execute_result"
    }
   ],
   "source": [
    "# 18. 3x4 matrix\n",
    "np.random.randint(13, size=( 3, 4))"
   ]
  },
  {
   "cell_type": "code",
   "execution_count": 30,
   "id": "f8895bd4-fb0f-40fb-b29e-129c5e0cf900",
   "metadata": {},
   "outputs": [
    {
     "data": {
      "text/plain": [
       "array([ 5., 10., 15., 20., 25., 30., 35., 40., 45., 50.])"
      ]
     },
     "execution_count": 30,
     "metadata": {},
     "output_type": "execute_result"
    }
   ],
   "source": [
    "# 19. vector of length 10 with values evenly distributed\n",
    "np.linspace(5, 50, 10)"
   ]
  },
  {
   "cell_type": "code",
   "execution_count": 31,
   "id": "f01c833c-a57d-4bbb-86f2-02fde5792c85",
   "metadata": {},
   "outputs": [],
   "source": [
    "# 20. 0-20, change sign of numbers in rnge 9-15\n",
    "arr = np.arange(20)"
   ]
  },
  {
   "cell_type": "code",
   "execution_count": 32,
   "id": "14c67b94-5234-4b20-b645-81c1a9b0431d",
   "metadata": {},
   "outputs": [
    {
     "data": {
      "text/plain": [
       "array([ 0. ,  2.5,  5. ,  7.5, 10. ])"
      ]
     },
     "execution_count": 32,
     "metadata": {},
     "output_type": "execute_result"
    }
   ],
   "source": [
    "# 21. create a vector of length 5 filled with arbitary integers from 0 to 10.\n",
    "arr1 = np.linspace(0,10,5)\n",
    "arr1"
   ]
  },
  {
   "cell_type": "code",
   "execution_count": 72,
   "id": "0b72b4fd-a105-4ab1-a18d-4dcf8275106f",
   "metadata": {},
   "outputs": [
    {
     "data": {
      "text/plain": [
       "array([ 5, 12,  9, 16])"
      ]
     },
     "execution_count": 72,
     "metadata": {},
     "output_type": "execute_result"
    }
   ],
   "source": [
    "#22. multiply values of two vectors\n",
    "arr1 = np.array([1,2,3,4])\n",
    "arr2 = np.array([5,6,3,4])\n",
    "arr1*arr2"
   ]
  },
  {
   "cell_type": "code",
   "execution_count": 73,
   "id": "24b8853b-0348-4cf7-8297-31a46f626cc1",
   "metadata": {},
   "outputs": [
    {
     "data": {
      "text/plain": [
       "array([[10, 11, 10, 15],\n",
       "       [13, 15, 18, 11],\n",
       "       [11, 19, 17, 14]])"
      ]
     },
     "execution_count": 73,
     "metadata": {},
     "output_type": "execute_result"
    }
   ],
   "source": [
    "#23. to create a 3x4 matrix with values from 10 to 21\n",
    "np.random.randint(10,21,size=(3,4))"
   ]
  },
  {
   "cell_type": "code",
   "execution_count": 74,
   "id": "c739a053-5e23-48fc-95e1-4c949ea3760b",
   "metadata": {},
   "outputs": [
    {
     "data": {
      "text/plain": [
       "2"
      ]
     },
     "execution_count": 74,
     "metadata": {},
     "output_type": "execute_result"
    }
   ],
   "source": [
    "#24. find rows and columns\n",
    "arr = np.array([[11,22,33,44,55],[23,45,67,89,78]])\n",
    "rows,columns = arr.shape\n",
    "rows"
   ]
  },
  {
   "cell_type": "code",
   "execution_count": 36,
   "id": "ccea524e-7276-4ca5-b1a2-6423ba0b4806",
   "metadata": {},
   "outputs": [
    {
     "data": {
      "text/plain": [
       "5"
      ]
     },
     "execution_count": 36,
     "metadata": {},
     "output_type": "execute_result"
    }
   ],
   "source": [
    "columns"
   ]
  },
  {
   "cell_type": "code",
   "execution_count": 37,
   "id": "ccf460aa-e97d-4e4c-8f47-290c93960297",
   "metadata": {},
   "outputs": [
    {
     "data": {
      "text/plain": [
       "array([[1., 0., 0.],\n",
       "       [0., 1., 0.],\n",
       "       [0., 0., 1.]])"
      ]
     },
     "execution_count": 37,
     "metadata": {},
     "output_type": "execute_result"
    }
   ],
   "source": [
    "#25. Identity matrix\n",
    "arr = np.identity(3)\n",
    "arr"
   ]
  },
  {
   "cell_type": "code",
   "execution_count": 75,
   "id": "e76917fa-4757-4866-b429-9570554b990a",
   "metadata": {},
   "outputs": [
    {
     "data": {
      "text/plain": [
       "array([[1., 1., 1., 1., 1., 1., 1., 1., 1., 1.],\n",
       "       [1., 1., 1., 1., 1., 1., 1., 1., 1., 1.],\n",
       "       [1., 1., 1., 1., 1., 1., 1., 1., 1., 1.],\n",
       "       [1., 1., 1., 1., 1., 1., 1., 1., 1., 1.],\n",
       "       [1., 1., 1., 1., 1., 1., 1., 1., 1., 1.],\n",
       "       [1., 1., 1., 1., 1., 1., 1., 1., 1., 1.],\n",
       "       [1., 1., 1., 1., 1., 1., 1., 1., 1., 1.],\n",
       "       [1., 1., 1., 1., 1., 1., 1., 1., 1., 1.],\n",
       "       [1., 1., 1., 1., 1., 1., 1., 1., 1., 1.],\n",
       "       [1., 1., 1., 1., 1., 1., 1., 1., 1., 1.]])"
      ]
     },
     "execution_count": 75,
     "metadata": {},
     "output_type": "execute_result"
    }
   ],
   "source": [
    "#26. 10x10 matrix with border elements = 1, inside = 0\n",
    "s = (10, 10)\n",
    "arr = np.ones(s)\n",
    "arr"
   ]
  },
  {
   "cell_type": "code",
   "execution_count": 39,
   "id": "fcb92e0d-7ce1-4e01-b088-4ef5a9513811",
   "metadata": {},
   "outputs": [
    {
     "data": {
      "text/plain": [
       "array([[1., 1., 1., 1., 1., 1., 1., 1., 1., 1.],\n",
       "       [1., 0., 0., 0., 0., 0., 0., 0., 0., 1.],\n",
       "       [1., 0., 0., 0., 0., 0., 0., 0., 0., 1.],\n",
       "       [1., 0., 0., 0., 0., 0., 0., 0., 0., 1.],\n",
       "       [1., 0., 0., 0., 0., 0., 0., 0., 0., 1.],\n",
       "       [1., 0., 0., 0., 0., 0., 0., 0., 0., 1.],\n",
       "       [1., 0., 0., 0., 0., 0., 0., 0., 0., 1.],\n",
       "       [1., 0., 0., 0., 0., 0., 0., 0., 0., 1.],\n",
       "       [1., 0., 0., 0., 0., 0., 0., 0., 0., 1.],\n",
       "       [1., 1., 1., 1., 1., 1., 1., 1., 1., 1.]])"
      ]
     },
     "execution_count": 39,
     "metadata": {},
     "output_type": "execute_result"
    }
   ],
   "source": [
    "# rows, columns\n",
    "arr[1:9, 1:9]=0\n",
    "arr"
   ]
  },
  {
   "cell_type": "code",
   "execution_count": 40,
   "id": "38e47cde-86f6-4dde-aef6-0e3a88adaab8",
   "metadata": {},
   "outputs": [
    {
     "data": {
      "text/plain": [
       "array([[ 0,  1,  2,  3],\n",
       "       [ 4,  5,  6,  7],\n",
       "       [ 8,  9, 10, 11],\n",
       "       [12, 13, 14, 15]])"
      ]
     },
     "execution_count": 40,
     "metadata": {},
     "output_type": "execute_result"
    }
   ],
   "source": [
    "arr = np.arange(16).reshape(4, 4)\n",
    "arr"
   ]
  },
  {
   "cell_type": "code",
   "execution_count": 41,
   "id": "5cc9eca7-ef4a-44e9-b5b1-04d2537f0819",
   "metadata": {},
   "outputs": [
    {
     "data": {
      "text/plain": [
       "array([ 0,  5, 10, 15])"
      ]
     },
     "execution_count": 41,
     "metadata": {},
     "output_type": "execute_result"
    }
   ],
   "source": [
    "arr.diagonal()"
   ]
  },
  {
   "cell_type": "code",
   "execution_count": 42,
   "id": "3d6ab608-3688-428c-bec0-793b3ebbadc0",
   "metadata": {},
   "outputs": [
    {
     "data": {
      "text/plain": [
       "array([2, 7])"
      ]
     },
     "execution_count": 42,
     "metadata": {},
     "output_type": "execute_result"
    }
   ],
   "source": [
    "arr.diagonal(2)"
   ]
  },
  {
   "cell_type": "code",
   "execution_count": 43,
   "id": "634514c7-332a-4abd-9c25-4beaf4fbe2d8",
   "metadata": {},
   "outputs": [],
   "source": [
    "np.fill_diagonal(arr, [1,2,3,4])"
   ]
  },
  {
   "cell_type": "code",
   "execution_count": 44,
   "id": "72c2de29-d628-4d65-b6fa-9ed386ca70f1",
   "metadata": {},
   "outputs": [
    {
     "data": {
      "text/plain": [
       "array([[ 1,  1,  2,  3],\n",
       "       [ 4,  2,  6,  7],\n",
       "       [ 8,  9,  3, 11],\n",
       "       [12, 13, 14,  4]])"
      ]
     },
     "execution_count": 44,
     "metadata": {},
     "output_type": "execute_result"
    }
   ],
   "source": [
    "arr"
   ]
  },
  {
   "cell_type": "code",
   "execution_count": 45,
   "id": "15eb7f8b-be9d-4657-b36d-c38bca58a404",
   "metadata": {},
   "outputs": [
    {
     "data": {
      "text/plain": [
       "array([[0., 0., 0., 0., 0.],\n",
       "       [0., 0., 0., 0., 0.],\n",
       "       [0., 0., 0., 0., 0.],\n",
       "       [0., 0., 0., 0., 0.],\n",
       "       [0., 0., 0., 0., 0.]])"
      ]
     },
     "execution_count": 45,
     "metadata": {},
     "output_type": "execute_result"
    }
   ],
   "source": [
    "# 27. 5x5 zero matrix; replace diagonal with 1, 2, 3, 4, 5\n",
    "s = (5, 5)\n",
    "zero = np.zeros(s)\n",
    "zero"
   ]
  },
  {
   "cell_type": "code",
   "execution_count": 46,
   "id": "dda5ca11-152b-41f8-adda-95dc3b951d4a",
   "metadata": {},
   "outputs": [],
   "source": [
    "np.fill_diagonal(zero, [1, 2, 3, 4, 5])"
   ]
  },
  {
   "cell_type": "code",
   "execution_count": 47,
   "id": "acccc16c-ecba-499b-a6c2-4b922a22de64",
   "metadata": {},
   "outputs": [
    {
     "data": {
      "text/plain": [
       "array([[1., 0., 0., 0., 0.],\n",
       "       [0., 2., 0., 0., 0.],\n",
       "       [0., 0., 3., 0., 0.],\n",
       "       [0., 0., 0., 4., 0.],\n",
       "       [0., 0., 0., 0., 5.]])"
      ]
     },
     "execution_count": 47,
     "metadata": {},
     "output_type": "execute_result"
    }
   ],
   "source": [
    "zero"
   ]
  },
  {
   "cell_type": "code",
   "execution_count": 48,
   "id": "29b67cb4-859e-4261-8165-b91d265efc44",
   "metadata": {},
   "outputs": [
    {
     "data": {
      "text/plain": [
       "array([[[ 6, 31, 39],\n",
       "        [29, 13, 48],\n",
       "        [11, 36, 27]],\n",
       "\n",
       "       [[ 9, 47,  0],\n",
       "        [28, 25, 16],\n",
       "        [38, 40, 35]],\n",
       "\n",
       "       [[30, 30, 24],\n",
       "        [45, 26, 26],\n",
       "        [43,  3, 27]]])"
      ]
     },
     "execution_count": 48,
     "metadata": {},
     "output_type": "execute_result"
    }
   ],
   "source": [
    "# 28. 3D matrix with  arbitrary values\n",
    "np.random.randint(50, size=(3, 3, 3))"
   ]
  },
  {
   "cell_type": "code",
   "execution_count": 49,
   "id": "875d6962-1e25-4dd4-a140-fa0882b4d926",
   "metadata": {},
   "outputs": [
    {
     "data": {
      "text/plain": [
       "170"
      ]
     },
     "execution_count": 49,
     "metadata": {},
     "output_type": "execute_result"
    }
   ],
   "source": [
    "# 29. inner product of 2 vectors\n",
    "a1 = np.array([2, 5, 4, 6])\n",
    "a2 = np.array([10, 10, 10, 10])\n",
    "np.inner(a1, a2)"
   ]
  },
  {
   "cell_type": "code",
   "execution_count": 50,
   "id": "ef2f00c0-0204-45a8-99d0-d90ffc0d6dbc",
   "metadata": {},
   "outputs": [
    {
     "data": {
      "text/plain": [
       "array([[420,   1,   5,  44,  23,   8],\n",
       "       [ 10,   1,  47,   8,  54,   9]])"
      ]
     },
     "execution_count": 50,
     "metadata": {},
     "output_type": "execute_result"
    }
   ],
   "source": [
    "# 30. sort array by row and column\n",
    "a = np.array([[420, 1, 5, 44, 23, 8], [10, 1, 47, 8, 54, 9]]) \n",
    "a"
   ]
  },
  {
   "cell_type": "code",
   "execution_count": 76,
   "id": "a08a811b-8e04-43b8-b028-0cdcaa88019c",
   "metadata": {},
   "outputs": [],
   "source": [
    "# axis = 0 to sort by comparing values in column, row wise\n",
    "x = np.sort(a, axis = 0)"
   ]
  },
  {
   "cell_type": "code",
   "execution_count": 52,
   "id": "4fc9bfe4-9d92-4108-8698-d00ed4be4447",
   "metadata": {},
   "outputs": [
    {
     "data": {
      "text/plain": [
       "array([[420,   1,   5,  44,  23,   8],\n",
       "       [ 10,   1,  47,   8,  54,   9]])"
      ]
     },
     "execution_count": 52,
     "metadata": {},
     "output_type": "execute_result"
    }
   ],
   "source": [
    "a"
   ]
  },
  {
   "cell_type": "code",
   "execution_count": 53,
   "id": "39f92aab-436c-401f-8b70-c3ebed0a86de",
   "metadata": {},
   "outputs": [
    {
     "data": {
      "text/plain": [
       "array([[ 10,   1,   5,   8,  23,   8],\n",
       "       [420,   1,  47,  44,  54,   9]])"
      ]
     },
     "execution_count": 53,
     "metadata": {},
     "output_type": "execute_result"
    }
   ],
   "source": [
    "x"
   ]
  },
  {
   "cell_type": "code",
   "execution_count": 54,
   "id": "479c311e-2514-4050-8083-1ee852a0da4d",
   "metadata": {},
   "outputs": [
    {
     "data": {
      "text/plain": [
       "array([[  1,   5,   8,  23,  44, 420],\n",
       "       [  1,   8,   9,  10,  47,  54]])"
      ]
     },
     "execution_count": 54,
     "metadata": {},
     "output_type": "execute_result"
    }
   ],
   "source": [
    "y = np.sort(a, axis = 1)\n",
    "y"
   ]
  },
  {
   "cell_type": "code",
   "execution_count": 55,
   "id": "11a673bf-172b-4797-82e7-1bd9a745ef6a",
   "metadata": {},
   "outputs": [
    {
     "data": {
      "text/plain": [
       "array([11, 80, 99])"
      ]
     },
     "execution_count": 55,
     "metadata": {},
     "output_type": "execute_result"
    }
   ],
   "source": [
    "# 31. greater than a number\n",
    "arr = np.array([4, 5, 7, 5, 11, 80, 99])\n",
    "greaterThan = arr[arr>10]\n",
    "greaterThan"
   ]
  },
  {
   "cell_type": "code",
   "execution_count": 56,
   "id": "2889bd13-ff7e-4146-a632-e4a6e505ad5c",
   "metadata": {},
   "outputs": [
    {
     "data": {
      "text/plain": [
       "array([9, 8, 6])"
      ]
     },
     "execution_count": 56,
     "metadata": {},
     "output_type": "execute_result"
    }
   ],
   "source": [
    "# 32. replace elements greater than, equal, less than\n",
    "arr = np.array([9, 8, 2, 6, 5, 1])\n",
    "gt5 = arr[arr>5]\n",
    "gt5"
   ]
  },
  {
   "cell_type": "code",
   "execution_count": 57,
   "id": "18392d3e-54e8-4431-b63e-e7874e0d8617",
   "metadata": {},
   "outputs": [
    {
     "data": {
      "text/plain": [
       "array([ 9,  8,  2,  6, 10,  1])"
      ]
     },
     "execution_count": 57,
     "metadata": {},
     "output_type": "execute_result"
    }
   ],
   "source": [
    "arr[arr==5]=10\n",
    "arr"
   ]
  },
  {
   "cell_type": "code",
   "execution_count": 58,
   "id": "3856e296-0cfa-4585-ae00-d9054bdcf069",
   "metadata": {},
   "outputs": [
    {
     "data": {
      "text/plain": [
       "array([2, 1])"
      ]
     },
     "execution_count": 58,
     "metadata": {},
     "output_type": "execute_result"
    }
   ],
   "source": [
    "lt5 = arr[arr<5]\n",
    "lt5"
   ]
  },
  {
   "cell_type": "code",
   "execution_count": 59,
   "id": "7e6abcc7-9361-4cc5-9437-addbbb490f85",
   "metadata": {},
   "outputs": [],
   "source": [
    "# 33. equal shape, dtype\n",
    "arr = np.arange(16).reshape(4, 4)"
   ]
  },
  {
   "cell_type": "code",
   "execution_count": 60,
   "id": "77349896-21f4-4787-848d-02fb7201146f",
   "metadata": {},
   "outputs": [
    {
     "data": {
      "text/plain": [
       "array([[ 0,  1,  2,  3],\n",
       "       [ 4,  5,  6,  7],\n",
       "       [ 8,  9, 10, 11],\n",
       "       [12, 13, 14, 15]])"
      ]
     },
     "execution_count": 60,
     "metadata": {},
     "output_type": "execute_result"
    }
   ],
   "source": [
    "arr"
   ]
  },
  {
   "cell_type": "code",
   "execution_count": 61,
   "id": "5bc59293-a708-4be0-b4d8-e28fae7ea1ae",
   "metadata": {},
   "outputs": [],
   "source": [
    "# 34. 3d varray: 3, 4, 5\n",
    "threeD = np.random.randint(50, size=(3, 4, 5))"
   ]
  },
  {
   "cell_type": "code",
   "execution_count": 62,
   "id": "a921f161-f302-486b-824b-a89391a0ac65",
   "metadata": {},
   "outputs": [
    {
     "data": {
      "text/plain": [
       "array([[[30, 49, 37,  0, 23],\n",
       "        [27, 33, 10,  0,  9],\n",
       "        [ 3, 46, 47,  3, 30],\n",
       "        [26, 18, 27, 39, 25]],\n",
       "\n",
       "       [[30, 29, 18,  9, 18],\n",
       "        [19, 39, 17,  9,  4],\n",
       "        [11,  4, 46, 33, 15],\n",
       "        [ 8, 31, 34, 28, 19]],\n",
       "\n",
       "       [[12,  8, 31, 49, 24],\n",
       "        [29,  3, 40, 24, 44],\n",
       "        [48, 28,  8,  6, 17],\n",
       "        [37, 41, 15, 36, 33]]])"
      ]
     },
     "execution_count": 62,
     "metadata": {},
     "output_type": "execute_result"
    }
   ],
   "source": [
    "threeD"
   ]
  },
  {
   "cell_type": "code",
   "execution_count": 63,
   "id": "98aa1a3c-8293-4838-94b8-64b58b4037b9",
   "metadata": {},
   "outputs": [
    {
     "data": {
      "text/plain": [
       "array([28, 10,  6, 28])"
      ]
     },
     "execution_count": 63,
     "metadata": {},
     "output_type": "execute_result"
    }
   ],
   "source": [
    "# 35. multiply 2 arrays\n",
    "a1 = np.array([4, 5, 6, 7])\n",
    "a2 = np.array([7, 2, 1, 4])\n",
    "a1 * a2"
   ]
  }
 ],
 "metadata": {
  "kernelspec": {
   "display_name": "Python 3 (ipykernel)",
   "language": "python",
   "name": "python3"
  },
  "language_info": {
   "codemirror_mode": {
    "name": "ipython",
    "version": 3
   },
   "file_extension": ".py",
   "mimetype": "text/x-python",
   "name": "python",
   "nbconvert_exporter": "python",
   "pygments_lexer": "ipython3",
   "version": "3.12.4"
  }
 },
 "nbformat": 4,
 "nbformat_minor": 5
}
