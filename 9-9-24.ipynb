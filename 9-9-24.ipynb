{
 "cells": [
  {
   "cell_type": "code",
   "execution_count": 3,
   "id": "bfe78b64-a0b1-4fb1-bd63-5189d4f9756c",
   "metadata": {},
   "outputs": [],
   "source": [
    "import numpy as np"
   ]
  },
  {
   "cell_type": "code",
   "execution_count": 5,
   "id": "74651cf4-19ac-419b-b907-3e459a192c9f",
   "metadata": {},
   "outputs": [
    {
     "data": {
      "text/plain": [
       "3.0"
      ]
     },
     "execution_count": 5,
     "metadata": {},
     "output_type": "execute_result"
    }
   ],
   "source": [
    "x = np.trace(np.eye(3))\n",
    "x"
   ]
  },
  {
   "cell_type": "code",
   "execution_count": 7,
   "id": "0dc24354-a0f0-4b0f-a18f-4a986a612fd7",
   "metadata": {},
   "outputs": [],
   "source": [
    "a = np.arange(8).reshape((2, 2, 2))"
   ]
  },
  {
   "cell_type": "code",
   "execution_count": 9,
   "id": "e3e08f86-9352-4d81-a834-8015f86adaf9",
   "metadata": {},
   "outputs": [
    {
     "data": {
      "text/plain": [
       "array([[[0, 1],\n",
       "        [2, 3]],\n",
       "\n",
       "       [[4, 5],\n",
       "        [6, 7]]])"
      ]
     },
     "execution_count": 9,
     "metadata": {},
     "output_type": "execute_result"
    }
   ],
   "source": [
    "a"
   ]
  },
  {
   "cell_type": "code",
   "execution_count": 11,
   "id": "3e98e323-7f84-4a11-b873-08d0f7fb4e4f",
   "metadata": {},
   "outputs": [],
   "source": [
    "y = np.eye(3)"
   ]
  },
  {
   "cell_type": "code",
   "execution_count": 13,
   "id": "df0fe02c-8b75-44f0-9e04-6287b2ac30cb",
   "metadata": {},
   "outputs": [
    {
     "data": {
      "text/plain": [
       "array([[1., 0., 0.],\n",
       "       [0., 1., 0.],\n",
       "       [0., 0., 1.]])"
      ]
     },
     "execution_count": 13,
     "metadata": {},
     "output_type": "execute_result"
    }
   ],
   "source": [
    "y"
   ]
  },
  {
   "cell_type": "code",
   "execution_count": 15,
   "id": "6e319f0d-19f6-49e9-94ed-7babd7bacce4",
   "metadata": {},
   "outputs": [],
   "source": [
    "import math\n",
    "import sklearn.metrics"
   ]
  },
  {
   "cell_type": "code",
   "execution_count": 17,
   "id": "9d143d74-995b-4ed7-a38e-e14cde5af532",
   "metadata": {},
   "outputs": [
    {
     "data": {
      "text/plain": [
       "1.5388307249337076"
      ]
     },
     "execution_count": 17,
     "metadata": {},
     "output_type": "execute_result"
    }
   ],
   "source": [
    "actual = [0, 1, 2, 0, 3]\n",
    "predicted = [0.2, 2.3, 4.5, 0.5, 1.1]\n",
    "mse = sklearn.metrics.mean_squared_error(actual, predicted)\n",
    "\n",
    "mse = math.sqrt(mse)\n",
    "mse"
   ]
  },
  {
   "cell_type": "code",
   "execution_count": null,
   "id": "ac0ff9ee-07a5-4d88-8434-6b809476fffb",
   "metadata": {},
   "outputs": [],
   "source": []
  }
 ],
 "metadata": {
  "kernelspec": {
   "display_name": "Python 3 (ipykernel)",
   "language": "python",
   "name": "python3"
  },
  "language_info": {
   "codemirror_mode": {
    "name": "ipython",
    "version": 3
   },
   "file_extension": ".py",
   "mimetype": "text/x-python",
   "name": "python",
   "nbconvert_exporter": "python",
   "pygments_lexer": "ipython3",
   "version": "3.12.4"
  }
 },
 "nbformat": 4,
 "nbformat_minor": 5
}
