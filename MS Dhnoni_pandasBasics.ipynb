{
 "cells": [
  {
   "cell_type": "code",
   "execution_count": 1,
   "id": "a25bc4bf-05bc-4dba-b2a5-2b89c89b9042",
   "metadata": {},
   "outputs": [],
   "source": [
    "import pandas as pd\n",
    "import numpy as np\n",
    "import datetime\n",
    "import matplotlib.pyplot as plt\n",
    "import seaborn as sns"
   ]
  },
  {
   "cell_type": "code",
   "execution_count": 2,
   "id": "cfdb26db-fc7d-4e1f-adf6-cb3181d19977",
   "metadata": {},
   "outputs": [],
   "source": [
    "df = pd.read_csv('MS_Dhoni_ODI_record.csv')"
   ]
  },
  {
   "cell_type": "code",
   "execution_count": 3,
   "id": "c013be2c-ab94-41b1-a17d-8cd5c60bf7fb",
   "metadata": {},
   "outputs": [
    {
     "data": {
      "text/html": [
       "<div>\n",
       "<style scoped>\n",
       "    .dataframe tbody tr th:only-of-type {\n",
       "        vertical-align: middle;\n",
       "    }\n",
       "\n",
       "    .dataframe tbody tr th {\n",
       "        vertical-align: top;\n",
       "    }\n",
       "\n",
       "    .dataframe thead th {\n",
       "        text-align: right;\n",
       "    }\n",
       "</style>\n",
       "<table border=\"1\" class=\"dataframe\">\n",
       "  <thead>\n",
       "    <tr style=\"text-align: right;\">\n",
       "      <th></th>\n",
       "      <th>score</th>\n",
       "      <th>runs_scored</th>\n",
       "      <th>balls_faced</th>\n",
       "      <th>strike_rate</th>\n",
       "      <th>fours</th>\n",
       "      <th>sixes</th>\n",
       "      <th>opposition</th>\n",
       "      <th>ground</th>\n",
       "      <th>date</th>\n",
       "      <th>odi_number</th>\n",
       "    </tr>\n",
       "  </thead>\n",
       "  <tbody>\n",
       "    <tr>\n",
       "      <th>0</th>\n",
       "      <td>0</td>\n",
       "      <td>0</td>\n",
       "      <td>1</td>\n",
       "      <td>0</td>\n",
       "      <td>0</td>\n",
       "      <td>0</td>\n",
       "      <td>v Bangladesh</td>\n",
       "      <td>Chattogram</td>\n",
       "      <td>23/12/2004</td>\n",
       "      <td>ODI # 2199</td>\n",
       "    </tr>\n",
       "    <tr>\n",
       "      <th>1</th>\n",
       "      <td>12</td>\n",
       "      <td>12</td>\n",
       "      <td>11</td>\n",
       "      <td>109.09</td>\n",
       "      <td>2</td>\n",
       "      <td>0</td>\n",
       "      <td>v Bangladesh</td>\n",
       "      <td>Dhaka</td>\n",
       "      <td>26/12/2004</td>\n",
       "      <td>ODI # 2201</td>\n",
       "    </tr>\n",
       "    <tr>\n",
       "      <th>2</th>\n",
       "      <td>7*</td>\n",
       "      <td>7</td>\n",
       "      <td>2</td>\n",
       "      <td>350</td>\n",
       "      <td>0</td>\n",
       "      <td>1</td>\n",
       "      <td>v Bangladesh</td>\n",
       "      <td>Dhaka</td>\n",
       "      <td>27/12/2004</td>\n",
       "      <td>ODI # 2202</td>\n",
       "    </tr>\n",
       "    <tr>\n",
       "      <th>3</th>\n",
       "      <td>3</td>\n",
       "      <td>3</td>\n",
       "      <td>7</td>\n",
       "      <td>42.85</td>\n",
       "      <td>0</td>\n",
       "      <td>0</td>\n",
       "      <td>v Pakistan</td>\n",
       "      <td>Kochi</td>\n",
       "      <td>02/04/2005</td>\n",
       "      <td>ODI # 2235</td>\n",
       "    </tr>\n",
       "    <tr>\n",
       "      <th>4</th>\n",
       "      <td>148</td>\n",
       "      <td>148</td>\n",
       "      <td>123</td>\n",
       "      <td>120.32</td>\n",
       "      <td>15</td>\n",
       "      <td>4</td>\n",
       "      <td>v Pakistan</td>\n",
       "      <td>Visakhapatnam</td>\n",
       "      <td>05/04/2005</td>\n",
       "      <td>ODI # 2236</td>\n",
       "    </tr>\n",
       "  </tbody>\n",
       "</table>\n",
       "</div>"
      ],
      "text/plain": [
       "  score runs_scored balls_faced strike_rate fours sixes    opposition  \\\n",
       "0     0           0           1           0     0     0  v Bangladesh   \n",
       "1    12          12          11      109.09     2     0  v Bangladesh   \n",
       "2    7*           7           2         350     0     1  v Bangladesh   \n",
       "3     3           3           7       42.85     0     0    v Pakistan   \n",
       "4   148         148         123      120.32    15     4    v Pakistan   \n",
       "\n",
       "          ground        date  odi_number  \n",
       "0     Chattogram  23/12/2004  ODI # 2199  \n",
       "1          Dhaka  26/12/2004  ODI # 2201  \n",
       "2          Dhaka  27/12/2004  ODI # 2202  \n",
       "3          Kochi  02/04/2005  ODI # 2235  \n",
       "4  Visakhapatnam  05/04/2005  ODI # 2236  "
      ]
     },
     "execution_count": 3,
     "metadata": {},
     "output_type": "execute_result"
    }
   ],
   "source": [
    "# returns first 5 rows of the dataset\n",
    "df.head()"
   ]
  },
  {
   "cell_type": "code",
   "execution_count": 4,
   "id": "ab8722d8-2726-426d-82d6-e6692c4434b3",
   "metadata": {},
   "outputs": [
    {
     "data": {
      "text/html": [
       "<div>\n",
       "<style scoped>\n",
       "    .dataframe tbody tr th:only-of-type {\n",
       "        vertical-align: middle;\n",
       "    }\n",
       "\n",
       "    .dataframe tbody tr th {\n",
       "        vertical-align: top;\n",
       "    }\n",
       "\n",
       "    .dataframe thead th {\n",
       "        text-align: right;\n",
       "    }\n",
       "</style>\n",
       "<table border=\"1\" class=\"dataframe\">\n",
       "  <thead>\n",
       "    <tr style=\"text-align: right;\">\n",
       "      <th></th>\n",
       "      <th>score</th>\n",
       "      <th>runs_scored</th>\n",
       "      <th>balls_faced</th>\n",
       "      <th>strike_rate</th>\n",
       "      <th>fours</th>\n",
       "      <th>sixes</th>\n",
       "      <th>opposition</th>\n",
       "      <th>ground</th>\n",
       "      <th>date</th>\n",
       "      <th>odi_number</th>\n",
       "    </tr>\n",
       "  </thead>\n",
       "  <tbody>\n",
       "    <tr>\n",
       "      <th>345</th>\n",
       "      <td>56*</td>\n",
       "      <td>56</td>\n",
       "      <td>61</td>\n",
       "      <td>91.8</td>\n",
       "      <td>3</td>\n",
       "      <td>2</td>\n",
       "      <td>v West Indies</td>\n",
       "      <td>Manchester</td>\n",
       "      <td>27/06/2019</td>\n",
       "      <td>ODI # 4175</td>\n",
       "    </tr>\n",
       "    <tr>\n",
       "      <th>346</th>\n",
       "      <td>42*</td>\n",
       "      <td>42</td>\n",
       "      <td>31</td>\n",
       "      <td>135.48</td>\n",
       "      <td>4</td>\n",
       "      <td>1</td>\n",
       "      <td>v England</td>\n",
       "      <td>Birmingham</td>\n",
       "      <td>30/06/2019</td>\n",
       "      <td>ODI # 4179</td>\n",
       "    </tr>\n",
       "    <tr>\n",
       "      <th>347</th>\n",
       "      <td>35</td>\n",
       "      <td>35</td>\n",
       "      <td>33</td>\n",
       "      <td>106.06</td>\n",
       "      <td>4</td>\n",
       "      <td>0</td>\n",
       "      <td>v Bangladesh</td>\n",
       "      <td>Birmingham</td>\n",
       "      <td>02/07/2019</td>\n",
       "      <td>ODI # 4182</td>\n",
       "    </tr>\n",
       "    <tr>\n",
       "      <th>348</th>\n",
       "      <td>DNB</td>\n",
       "      <td>-</td>\n",
       "      <td>-</td>\n",
       "      <td>-</td>\n",
       "      <td>-</td>\n",
       "      <td>-</td>\n",
       "      <td>v Sri Lanka</td>\n",
       "      <td>Leeds</td>\n",
       "      <td>06/07/2019</td>\n",
       "      <td>ODI # 4187</td>\n",
       "    </tr>\n",
       "    <tr>\n",
       "      <th>349</th>\n",
       "      <td>50</td>\n",
       "      <td>50</td>\n",
       "      <td>72</td>\n",
       "      <td>69.44</td>\n",
       "      <td>1</td>\n",
       "      <td>1</td>\n",
       "      <td>v New Zealand</td>\n",
       "      <td>Manchester</td>\n",
       "      <td>09/07/2019</td>\n",
       "      <td>ODI # 4190</td>\n",
       "    </tr>\n",
       "  </tbody>\n",
       "</table>\n",
       "</div>"
      ],
      "text/plain": [
       "    score runs_scored balls_faced strike_rate fours sixes     opposition  \\\n",
       "345   56*          56          61        91.8     3     2  v West Indies   \n",
       "346   42*          42          31      135.48     4     1      v England   \n",
       "347    35          35          33      106.06     4     0   v Bangladesh   \n",
       "348   DNB           -           -           -     -     -    v Sri Lanka   \n",
       "349    50          50          72       69.44     1     1  v New Zealand   \n",
       "\n",
       "         ground        date  odi_number  \n",
       "345  Manchester  27/06/2019  ODI # 4175  \n",
       "346  Birmingham  30/06/2019  ODI # 4179  \n",
       "347  Birmingham  02/07/2019  ODI # 4182  \n",
       "348       Leeds  06/07/2019  ODI # 4187  \n",
       "349  Manchester  09/07/2019  ODI # 4190  "
      ]
     },
     "execution_count": 4,
     "metadata": {},
     "output_type": "execute_result"
    }
   ],
   "source": [
    "# returns last 5 rows of the dataset\n",
    "df.tail()"
   ]
  },
  {
   "cell_type": "code",
   "execution_count": 35,
   "id": "15920ce5-3db1-4a06-84cd-e275581b978c",
   "metadata": {},
   "outputs": [
    {
     "data": {
      "text/plain": [
       "0    ngladesh\n",
       "1    ngladesh\n",
       "2    ngladesh\n",
       "3      kistan\n",
       "4      kistan\n",
       "Name: opposition, dtype: object"
      ]
     },
     "execution_count": 35,
     "metadata": {},
     "output_type": "execute_result"
    }
   ],
   "source": [
    "# Data cleaning-opposition name says 'v Aus' etc,we can remove 'v' - removing all the 'v' from opposition column\n",
    "df['opposition'] = df['opposition'].apply(lambda x:x[2:])\n",
    "df['opposition'].head()"
   ]
  },
  {
   "cell_type": "code",
   "execution_count": 6,
   "id": "05681cfb-bba9-4164-99d5-7c854e3beb62",
   "metadata": {},
   "outputs": [
    {
     "data": {
      "text/plain": [
       "0       Bangladesh\n",
       "1       Bangladesh\n",
       "2       Bangladesh\n",
       "3         Pakistan\n",
       "4         Pakistan\n",
       "          ...     \n",
       "345    West Indies\n",
       "346        England\n",
       "347     Bangladesh\n",
       "348      Sri Lanka\n",
       "349    New Zealand\n",
       "Name: opposition, Length: 350, dtype: object"
      ]
     },
     "execution_count": 6,
     "metadata": {},
     "output_type": "execute_result"
    }
   ],
   "source": [
    "df['opposition'] = df['opposition'].str.replace('v','',regex=False)\n",
    "df['opposition']"
   ]
  },
  {
   "cell_type": "code",
   "execution_count": 7,
   "id": "99ffbede-559c-4808-87fd-a22b66ec19cf",
   "metadata": {},
   "outputs": [
    {
     "data": {
      "text/plain": [
       "0     2004-12-23\n",
       "1     2004-12-26\n",
       "2     2004-12-27\n",
       "3     2005-04-02\n",
       "4     2005-04-05\n",
       "         ...    \n",
       "345   2019-06-27\n",
       "346   2019-06-30\n",
       "347   2019-07-02\n",
       "348   2019-07-06\n",
       "349   2019-07-09\n",
       "Name: date, Length: 350, dtype: datetime64[ns]"
      ]
     },
     "execution_count": 7,
     "metadata": {},
     "output_type": "execute_result"
    }
   ],
   "source": [
    "df['date'] = pd.to_datetime(df['date'], dayfirst = True)\n",
    "df['date']"
   ]
  },
  {
   "cell_type": "code",
   "execution_count": 8,
   "id": "d16ab853-4ea7-4634-8f9b-426c51c482a2",
   "metadata": {},
   "outputs": [],
   "source": [
    "df['year']=df['date'].dt.year"
   ]
  },
  {
   "cell_type": "code",
   "execution_count": 9,
   "id": "2ca1434b-0044-462f-bc23-f01e03c409c6",
   "metadata": {},
   "outputs": [
    {
     "data": {
      "text/html": [
       "<div>\n",
       "<style scoped>\n",
       "    .dataframe tbody tr th:only-of-type {\n",
       "        vertical-align: middle;\n",
       "    }\n",
       "\n",
       "    .dataframe tbody tr th {\n",
       "        vertical-align: top;\n",
       "    }\n",
       "\n",
       "    .dataframe thead th {\n",
       "        text-align: right;\n",
       "    }\n",
       "</style>\n",
       "<table border=\"1\" class=\"dataframe\">\n",
       "  <thead>\n",
       "    <tr style=\"text-align: right;\">\n",
       "      <th></th>\n",
       "      <th>score</th>\n",
       "      <th>runs_scored</th>\n",
       "      <th>balls_faced</th>\n",
       "      <th>strike_rate</th>\n",
       "      <th>fours</th>\n",
       "      <th>sixes</th>\n",
       "      <th>opposition</th>\n",
       "      <th>ground</th>\n",
       "      <th>date</th>\n",
       "      <th>odi_number</th>\n",
       "      <th>year</th>\n",
       "    </tr>\n",
       "  </thead>\n",
       "  <tbody>\n",
       "    <tr>\n",
       "      <th>0</th>\n",
       "      <td>0</td>\n",
       "      <td>0</td>\n",
       "      <td>1</td>\n",
       "      <td>0</td>\n",
       "      <td>0</td>\n",
       "      <td>0</td>\n",
       "      <td>Bangladesh</td>\n",
       "      <td>Chattogram</td>\n",
       "      <td>2004-12-23</td>\n",
       "      <td>ODI # 2199</td>\n",
       "      <td>2004</td>\n",
       "    </tr>\n",
       "    <tr>\n",
       "      <th>1</th>\n",
       "      <td>12</td>\n",
       "      <td>12</td>\n",
       "      <td>11</td>\n",
       "      <td>109.09</td>\n",
       "      <td>2</td>\n",
       "      <td>0</td>\n",
       "      <td>Bangladesh</td>\n",
       "      <td>Dhaka</td>\n",
       "      <td>2004-12-26</td>\n",
       "      <td>ODI # 2201</td>\n",
       "      <td>2004</td>\n",
       "    </tr>\n",
       "    <tr>\n",
       "      <th>2</th>\n",
       "      <td>7*</td>\n",
       "      <td>7</td>\n",
       "      <td>2</td>\n",
       "      <td>350</td>\n",
       "      <td>0</td>\n",
       "      <td>1</td>\n",
       "      <td>Bangladesh</td>\n",
       "      <td>Dhaka</td>\n",
       "      <td>2004-12-27</td>\n",
       "      <td>ODI # 2202</td>\n",
       "      <td>2004</td>\n",
       "    </tr>\n",
       "    <tr>\n",
       "      <th>3</th>\n",
       "      <td>3</td>\n",
       "      <td>3</td>\n",
       "      <td>7</td>\n",
       "      <td>42.85</td>\n",
       "      <td>0</td>\n",
       "      <td>0</td>\n",
       "      <td>Pakistan</td>\n",
       "      <td>Kochi</td>\n",
       "      <td>2005-04-02</td>\n",
       "      <td>ODI # 2235</td>\n",
       "      <td>2005</td>\n",
       "    </tr>\n",
       "    <tr>\n",
       "      <th>4</th>\n",
       "      <td>148</td>\n",
       "      <td>148</td>\n",
       "      <td>123</td>\n",
       "      <td>120.32</td>\n",
       "      <td>15</td>\n",
       "      <td>4</td>\n",
       "      <td>Pakistan</td>\n",
       "      <td>Visakhapatnam</td>\n",
       "      <td>2005-04-05</td>\n",
       "      <td>ODI # 2236</td>\n",
       "      <td>2005</td>\n",
       "    </tr>\n",
       "    <tr>\n",
       "      <th>...</th>\n",
       "      <td>...</td>\n",
       "      <td>...</td>\n",
       "      <td>...</td>\n",
       "      <td>...</td>\n",
       "      <td>...</td>\n",
       "      <td>...</td>\n",
       "      <td>...</td>\n",
       "      <td>...</td>\n",
       "      <td>...</td>\n",
       "      <td>...</td>\n",
       "      <td>...</td>\n",
       "    </tr>\n",
       "    <tr>\n",
       "      <th>345</th>\n",
       "      <td>56*</td>\n",
       "      <td>56</td>\n",
       "      <td>61</td>\n",
       "      <td>91.8</td>\n",
       "      <td>3</td>\n",
       "      <td>2</td>\n",
       "      <td>West Indies</td>\n",
       "      <td>Manchester</td>\n",
       "      <td>2019-06-27</td>\n",
       "      <td>ODI # 4175</td>\n",
       "      <td>2019</td>\n",
       "    </tr>\n",
       "    <tr>\n",
       "      <th>346</th>\n",
       "      <td>42*</td>\n",
       "      <td>42</td>\n",
       "      <td>31</td>\n",
       "      <td>135.48</td>\n",
       "      <td>4</td>\n",
       "      <td>1</td>\n",
       "      <td>England</td>\n",
       "      <td>Birmingham</td>\n",
       "      <td>2019-06-30</td>\n",
       "      <td>ODI # 4179</td>\n",
       "      <td>2019</td>\n",
       "    </tr>\n",
       "    <tr>\n",
       "      <th>347</th>\n",
       "      <td>35</td>\n",
       "      <td>35</td>\n",
       "      <td>33</td>\n",
       "      <td>106.06</td>\n",
       "      <td>4</td>\n",
       "      <td>0</td>\n",
       "      <td>Bangladesh</td>\n",
       "      <td>Birmingham</td>\n",
       "      <td>2019-07-02</td>\n",
       "      <td>ODI # 4182</td>\n",
       "      <td>2019</td>\n",
       "    </tr>\n",
       "    <tr>\n",
       "      <th>348</th>\n",
       "      <td>DNB</td>\n",
       "      <td>-</td>\n",
       "      <td>-</td>\n",
       "      <td>-</td>\n",
       "      <td>-</td>\n",
       "      <td>-</td>\n",
       "      <td>Sri Lanka</td>\n",
       "      <td>Leeds</td>\n",
       "      <td>2019-07-06</td>\n",
       "      <td>ODI # 4187</td>\n",
       "      <td>2019</td>\n",
       "    </tr>\n",
       "    <tr>\n",
       "      <th>349</th>\n",
       "      <td>50</td>\n",
       "      <td>50</td>\n",
       "      <td>72</td>\n",
       "      <td>69.44</td>\n",
       "      <td>1</td>\n",
       "      <td>1</td>\n",
       "      <td>New Zealand</td>\n",
       "      <td>Manchester</td>\n",
       "      <td>2019-07-09</td>\n",
       "      <td>ODI # 4190</td>\n",
       "      <td>2019</td>\n",
       "    </tr>\n",
       "  </tbody>\n",
       "</table>\n",
       "<p>350 rows × 11 columns</p>\n",
       "</div>"
      ],
      "text/plain": [
       "    score runs_scored balls_faced strike_rate fours sixes   opposition  \\\n",
       "0       0           0           1           0     0     0   Bangladesh   \n",
       "1      12          12          11      109.09     2     0   Bangladesh   \n",
       "2      7*           7           2         350     0     1   Bangladesh   \n",
       "3       3           3           7       42.85     0     0     Pakistan   \n",
       "4     148         148         123      120.32    15     4     Pakistan   \n",
       "..    ...         ...         ...         ...   ...   ...          ...   \n",
       "345   56*          56          61        91.8     3     2  West Indies   \n",
       "346   42*          42          31      135.48     4     1      England   \n",
       "347    35          35          33      106.06     4     0   Bangladesh   \n",
       "348   DNB           -           -           -     -     -    Sri Lanka   \n",
       "349    50          50          72       69.44     1     1  New Zealand   \n",
       "\n",
       "            ground       date  odi_number  year  \n",
       "0       Chattogram 2004-12-23  ODI # 2199  2004  \n",
       "1            Dhaka 2004-12-26  ODI # 2201  2004  \n",
       "2            Dhaka 2004-12-27  ODI # 2202  2004  \n",
       "3            Kochi 2005-04-02  ODI # 2235  2005  \n",
       "4    Visakhapatnam 2005-04-05  ODI # 2236  2005  \n",
       "..             ...        ...         ...   ...  \n",
       "345     Manchester 2019-06-27  ODI # 4175  2019  \n",
       "346     Birmingham 2019-06-30  ODI # 4179  2019  \n",
       "347     Birmingham 2019-07-02  ODI # 4182  2019  \n",
       "348          Leeds 2019-07-06  ODI # 4187  2019  \n",
       "349     Manchester 2019-07-09  ODI # 4190  2019  \n",
       "\n",
       "[350 rows x 11 columns]"
      ]
     },
     "execution_count": 9,
     "metadata": {},
     "output_type": "execute_result"
    }
   ],
   "source": [
    "df"
   ]
  },
  {
   "cell_type": "code",
   "execution_count": 10,
   "id": "c107c9ee-ded9-4373-b4ed-bb7d3416190a",
   "metadata": {},
   "outputs": [],
   "source": [
    "# In score colmn we have '*' at end of not out score, so extracting those and creating a new column not_out where not_out = 1; out = 0\n",
    "df['score'] = df['score'].apply(str)\n",
    "df['not_out'] = np.where(df['score'].str.endswith('*'), 1, 0)"
   ]
  },
  {
   "cell_type": "code",
   "execution_count": 11,
   "id": "747e9272-0e08-43bc-b03d-e0f9c9d6553b",
   "metadata": {},
   "outputs": [
    {
     "data": {
      "text/html": [
       "<div>\n",
       "<style scoped>\n",
       "    .dataframe tbody tr th:only-of-type {\n",
       "        vertical-align: middle;\n",
       "    }\n",
       "\n",
       "    .dataframe tbody tr th {\n",
       "        vertical-align: top;\n",
       "    }\n",
       "\n",
       "    .dataframe thead th {\n",
       "        text-align: right;\n",
       "    }\n",
       "</style>\n",
       "<table border=\"1\" class=\"dataframe\">\n",
       "  <thead>\n",
       "    <tr style=\"text-align: right;\">\n",
       "      <th></th>\n",
       "      <th>score</th>\n",
       "      <th>runs_scored</th>\n",
       "      <th>balls_faced</th>\n",
       "      <th>strike_rate</th>\n",
       "      <th>fours</th>\n",
       "      <th>sixes</th>\n",
       "      <th>opposition</th>\n",
       "      <th>ground</th>\n",
       "      <th>date</th>\n",
       "      <th>odi_number</th>\n",
       "      <th>year</th>\n",
       "      <th>not_out</th>\n",
       "    </tr>\n",
       "  </thead>\n",
       "  <tbody>\n",
       "    <tr>\n",
       "      <th>0</th>\n",
       "      <td>0</td>\n",
       "      <td>0</td>\n",
       "      <td>1</td>\n",
       "      <td>0</td>\n",
       "      <td>0</td>\n",
       "      <td>0</td>\n",
       "      <td>Bangladesh</td>\n",
       "      <td>Chattogram</td>\n",
       "      <td>2004-12-23</td>\n",
       "      <td>ODI # 2199</td>\n",
       "      <td>2004</td>\n",
       "      <td>0</td>\n",
       "    </tr>\n",
       "    <tr>\n",
       "      <th>1</th>\n",
       "      <td>12</td>\n",
       "      <td>12</td>\n",
       "      <td>11</td>\n",
       "      <td>109.09</td>\n",
       "      <td>2</td>\n",
       "      <td>0</td>\n",
       "      <td>Bangladesh</td>\n",
       "      <td>Dhaka</td>\n",
       "      <td>2004-12-26</td>\n",
       "      <td>ODI # 2201</td>\n",
       "      <td>2004</td>\n",
       "      <td>0</td>\n",
       "    </tr>\n",
       "    <tr>\n",
       "      <th>2</th>\n",
       "      <td>7*</td>\n",
       "      <td>7</td>\n",
       "      <td>2</td>\n",
       "      <td>350</td>\n",
       "      <td>0</td>\n",
       "      <td>1</td>\n",
       "      <td>Bangladesh</td>\n",
       "      <td>Dhaka</td>\n",
       "      <td>2004-12-27</td>\n",
       "      <td>ODI # 2202</td>\n",
       "      <td>2004</td>\n",
       "      <td>1</td>\n",
       "    </tr>\n",
       "    <tr>\n",
       "      <th>3</th>\n",
       "      <td>3</td>\n",
       "      <td>3</td>\n",
       "      <td>7</td>\n",
       "      <td>42.85</td>\n",
       "      <td>0</td>\n",
       "      <td>0</td>\n",
       "      <td>Pakistan</td>\n",
       "      <td>Kochi</td>\n",
       "      <td>2005-04-02</td>\n",
       "      <td>ODI # 2235</td>\n",
       "      <td>2005</td>\n",
       "      <td>0</td>\n",
       "    </tr>\n",
       "    <tr>\n",
       "      <th>4</th>\n",
       "      <td>148</td>\n",
       "      <td>148</td>\n",
       "      <td>123</td>\n",
       "      <td>120.32</td>\n",
       "      <td>15</td>\n",
       "      <td>4</td>\n",
       "      <td>Pakistan</td>\n",
       "      <td>Visakhapatnam</td>\n",
       "      <td>2005-04-05</td>\n",
       "      <td>ODI # 2236</td>\n",
       "      <td>2005</td>\n",
       "      <td>0</td>\n",
       "    </tr>\n",
       "    <tr>\n",
       "      <th>...</th>\n",
       "      <td>...</td>\n",
       "      <td>...</td>\n",
       "      <td>...</td>\n",
       "      <td>...</td>\n",
       "      <td>...</td>\n",
       "      <td>...</td>\n",
       "      <td>...</td>\n",
       "      <td>...</td>\n",
       "      <td>...</td>\n",
       "      <td>...</td>\n",
       "      <td>...</td>\n",
       "      <td>...</td>\n",
       "    </tr>\n",
       "    <tr>\n",
       "      <th>345</th>\n",
       "      <td>56*</td>\n",
       "      <td>56</td>\n",
       "      <td>61</td>\n",
       "      <td>91.8</td>\n",
       "      <td>3</td>\n",
       "      <td>2</td>\n",
       "      <td>West Indies</td>\n",
       "      <td>Manchester</td>\n",
       "      <td>2019-06-27</td>\n",
       "      <td>ODI # 4175</td>\n",
       "      <td>2019</td>\n",
       "      <td>1</td>\n",
       "    </tr>\n",
       "    <tr>\n",
       "      <th>346</th>\n",
       "      <td>42*</td>\n",
       "      <td>42</td>\n",
       "      <td>31</td>\n",
       "      <td>135.48</td>\n",
       "      <td>4</td>\n",
       "      <td>1</td>\n",
       "      <td>England</td>\n",
       "      <td>Birmingham</td>\n",
       "      <td>2019-06-30</td>\n",
       "      <td>ODI # 4179</td>\n",
       "      <td>2019</td>\n",
       "      <td>1</td>\n",
       "    </tr>\n",
       "    <tr>\n",
       "      <th>347</th>\n",
       "      <td>35</td>\n",
       "      <td>35</td>\n",
       "      <td>33</td>\n",
       "      <td>106.06</td>\n",
       "      <td>4</td>\n",
       "      <td>0</td>\n",
       "      <td>Bangladesh</td>\n",
       "      <td>Birmingham</td>\n",
       "      <td>2019-07-02</td>\n",
       "      <td>ODI # 4182</td>\n",
       "      <td>2019</td>\n",
       "      <td>0</td>\n",
       "    </tr>\n",
       "    <tr>\n",
       "      <th>348</th>\n",
       "      <td>DNB</td>\n",
       "      <td>-</td>\n",
       "      <td>-</td>\n",
       "      <td>-</td>\n",
       "      <td>-</td>\n",
       "      <td>-</td>\n",
       "      <td>Sri Lanka</td>\n",
       "      <td>Leeds</td>\n",
       "      <td>2019-07-06</td>\n",
       "      <td>ODI # 4187</td>\n",
       "      <td>2019</td>\n",
       "      <td>0</td>\n",
       "    </tr>\n",
       "    <tr>\n",
       "      <th>349</th>\n",
       "      <td>50</td>\n",
       "      <td>50</td>\n",
       "      <td>72</td>\n",
       "      <td>69.44</td>\n",
       "      <td>1</td>\n",
       "      <td>1</td>\n",
       "      <td>New Zealand</td>\n",
       "      <td>Manchester</td>\n",
       "      <td>2019-07-09</td>\n",
       "      <td>ODI # 4190</td>\n",
       "      <td>2019</td>\n",
       "      <td>0</td>\n",
       "    </tr>\n",
       "  </tbody>\n",
       "</table>\n",
       "<p>350 rows × 12 columns</p>\n",
       "</div>"
      ],
      "text/plain": [
       "    score runs_scored balls_faced strike_rate fours sixes   opposition  \\\n",
       "0       0           0           1           0     0     0   Bangladesh   \n",
       "1      12          12          11      109.09     2     0   Bangladesh   \n",
       "2      7*           7           2         350     0     1   Bangladesh   \n",
       "3       3           3           7       42.85     0     0     Pakistan   \n",
       "4     148         148         123      120.32    15     4     Pakistan   \n",
       "..    ...         ...         ...         ...   ...   ...          ...   \n",
       "345   56*          56          61        91.8     3     2  West Indies   \n",
       "346   42*          42          31      135.48     4     1      England   \n",
       "347    35          35          33      106.06     4     0   Bangladesh   \n",
       "348   DNB           -           -           -     -     -    Sri Lanka   \n",
       "349    50          50          72       69.44     1     1  New Zealand   \n",
       "\n",
       "            ground       date  odi_number  year  not_out  \n",
       "0       Chattogram 2004-12-23  ODI # 2199  2004        0  \n",
       "1            Dhaka 2004-12-26  ODI # 2201  2004        0  \n",
       "2            Dhaka 2004-12-27  ODI # 2202  2004        1  \n",
       "3            Kochi 2005-04-02  ODI # 2235  2005        0  \n",
       "4    Visakhapatnam 2005-04-05  ODI # 2236  2005        0  \n",
       "..             ...        ...         ...   ...      ...  \n",
       "345     Manchester 2019-06-27  ODI # 4175  2019        1  \n",
       "346     Birmingham 2019-06-30  ODI # 4179  2019        1  \n",
       "347     Birmingham 2019-07-02  ODI # 4182  2019        0  \n",
       "348          Leeds 2019-07-06  ODI # 4187  2019        0  \n",
       "349     Manchester 2019-07-09  ODI # 4190  2019        0  \n",
       "\n",
       "[350 rows x 12 columns]"
      ]
     },
     "execution_count": 11,
     "metadata": {},
     "output_type": "execute_result"
    }
   ],
   "source": [
    "df"
   ]
  },
  {
   "cell_type": "code",
   "execution_count": 12,
   "id": "89f725a6-67cd-4736-85b5-5e2b88fd96bd",
   "metadata": {},
   "outputs": [],
   "source": [
    "df.drop(columns='odi_number', inplace=True)"
   ]
  },
  {
   "cell_type": "code",
   "execution_count": 13,
   "id": "b1636c77-efc4-41b5-b3ca-14e38e6bba8d",
   "metadata": {},
   "outputs": [],
   "source": [
    "# remove records where TDNB/ DNB (Team did not bat, Did not bat)\n",
    "df_new = df.loc[((df['score']!= 'DNB') & (df['score']!= 'TDNB')), 'runs_scored':]"
   ]
  },
  {
   "cell_type": "code",
   "execution_count": 14,
   "id": "b88e78cc-6d53-459a-bd67-e9f21db8500f",
   "metadata": {},
   "outputs": [
    {
     "data": {
      "text/html": [
       "<div>\n",
       "<style scoped>\n",
       "    .dataframe tbody tr th:only-of-type {\n",
       "        vertical-align: middle;\n",
       "    }\n",
       "\n",
       "    .dataframe tbody tr th {\n",
       "        vertical-align: top;\n",
       "    }\n",
       "\n",
       "    .dataframe thead th {\n",
       "        text-align: right;\n",
       "    }\n",
       "</style>\n",
       "<table border=\"1\" class=\"dataframe\">\n",
       "  <thead>\n",
       "    <tr style=\"text-align: right;\">\n",
       "      <th></th>\n",
       "      <th>runs_scored</th>\n",
       "      <th>balls_faced</th>\n",
       "      <th>strike_rate</th>\n",
       "      <th>fours</th>\n",
       "      <th>sixes</th>\n",
       "      <th>opposition</th>\n",
       "      <th>ground</th>\n",
       "      <th>date</th>\n",
       "      <th>year</th>\n",
       "      <th>not_out</th>\n",
       "    </tr>\n",
       "  </thead>\n",
       "  <tbody>\n",
       "    <tr>\n",
       "      <th>0</th>\n",
       "      <td>0</td>\n",
       "      <td>1</td>\n",
       "      <td>0</td>\n",
       "      <td>0</td>\n",
       "      <td>0</td>\n",
       "      <td>Bangladesh</td>\n",
       "      <td>Chattogram</td>\n",
       "      <td>2004-12-23</td>\n",
       "      <td>2004</td>\n",
       "      <td>0</td>\n",
       "    </tr>\n",
       "    <tr>\n",
       "      <th>1</th>\n",
       "      <td>12</td>\n",
       "      <td>11</td>\n",
       "      <td>109.09</td>\n",
       "      <td>2</td>\n",
       "      <td>0</td>\n",
       "      <td>Bangladesh</td>\n",
       "      <td>Dhaka</td>\n",
       "      <td>2004-12-26</td>\n",
       "      <td>2004</td>\n",
       "      <td>0</td>\n",
       "    </tr>\n",
       "    <tr>\n",
       "      <th>2</th>\n",
       "      <td>7</td>\n",
       "      <td>2</td>\n",
       "      <td>350</td>\n",
       "      <td>0</td>\n",
       "      <td>1</td>\n",
       "      <td>Bangladesh</td>\n",
       "      <td>Dhaka</td>\n",
       "      <td>2004-12-27</td>\n",
       "      <td>2004</td>\n",
       "      <td>1</td>\n",
       "    </tr>\n",
       "    <tr>\n",
       "      <th>3</th>\n",
       "      <td>3</td>\n",
       "      <td>7</td>\n",
       "      <td>42.85</td>\n",
       "      <td>0</td>\n",
       "      <td>0</td>\n",
       "      <td>Pakistan</td>\n",
       "      <td>Kochi</td>\n",
       "      <td>2005-04-02</td>\n",
       "      <td>2005</td>\n",
       "      <td>0</td>\n",
       "    </tr>\n",
       "    <tr>\n",
       "      <th>4</th>\n",
       "      <td>148</td>\n",
       "      <td>123</td>\n",
       "      <td>120.32</td>\n",
       "      <td>15</td>\n",
       "      <td>4</td>\n",
       "      <td>Pakistan</td>\n",
       "      <td>Visakhapatnam</td>\n",
       "      <td>2005-04-05</td>\n",
       "      <td>2005</td>\n",
       "      <td>0</td>\n",
       "    </tr>\n",
       "    <tr>\n",
       "      <th>...</th>\n",
       "      <td>...</td>\n",
       "      <td>...</td>\n",
       "      <td>...</td>\n",
       "      <td>...</td>\n",
       "      <td>...</td>\n",
       "      <td>...</td>\n",
       "      <td>...</td>\n",
       "      <td>...</td>\n",
       "      <td>...</td>\n",
       "      <td>...</td>\n",
       "    </tr>\n",
       "    <tr>\n",
       "      <th>344</th>\n",
       "      <td>28</td>\n",
       "      <td>52</td>\n",
       "      <td>53.84</td>\n",
       "      <td>3</td>\n",
       "      <td>0</td>\n",
       "      <td>Afghanistan</td>\n",
       "      <td>Southampton</td>\n",
       "      <td>2019-06-22</td>\n",
       "      <td>2019</td>\n",
       "      <td>0</td>\n",
       "    </tr>\n",
       "    <tr>\n",
       "      <th>345</th>\n",
       "      <td>56</td>\n",
       "      <td>61</td>\n",
       "      <td>91.8</td>\n",
       "      <td>3</td>\n",
       "      <td>2</td>\n",
       "      <td>West Indies</td>\n",
       "      <td>Manchester</td>\n",
       "      <td>2019-06-27</td>\n",
       "      <td>2019</td>\n",
       "      <td>1</td>\n",
       "    </tr>\n",
       "    <tr>\n",
       "      <th>346</th>\n",
       "      <td>42</td>\n",
       "      <td>31</td>\n",
       "      <td>135.48</td>\n",
       "      <td>4</td>\n",
       "      <td>1</td>\n",
       "      <td>England</td>\n",
       "      <td>Birmingham</td>\n",
       "      <td>2019-06-30</td>\n",
       "      <td>2019</td>\n",
       "      <td>1</td>\n",
       "    </tr>\n",
       "    <tr>\n",
       "      <th>347</th>\n",
       "      <td>35</td>\n",
       "      <td>33</td>\n",
       "      <td>106.06</td>\n",
       "      <td>4</td>\n",
       "      <td>0</td>\n",
       "      <td>Bangladesh</td>\n",
       "      <td>Birmingham</td>\n",
       "      <td>2019-07-02</td>\n",
       "      <td>2019</td>\n",
       "      <td>0</td>\n",
       "    </tr>\n",
       "    <tr>\n",
       "      <th>349</th>\n",
       "      <td>50</td>\n",
       "      <td>72</td>\n",
       "      <td>69.44</td>\n",
       "      <td>1</td>\n",
       "      <td>1</td>\n",
       "      <td>New Zealand</td>\n",
       "      <td>Manchester</td>\n",
       "      <td>2019-07-09</td>\n",
       "      <td>2019</td>\n",
       "      <td>0</td>\n",
       "    </tr>\n",
       "  </tbody>\n",
       "</table>\n",
       "<p>297 rows × 10 columns</p>\n",
       "</div>"
      ],
      "text/plain": [
       "    runs_scored balls_faced strike_rate fours sixes   opposition  \\\n",
       "0             0           1           0     0     0   Bangladesh   \n",
       "1            12          11      109.09     2     0   Bangladesh   \n",
       "2             7           2         350     0     1   Bangladesh   \n",
       "3             3           7       42.85     0     0     Pakistan   \n",
       "4           148         123      120.32    15     4     Pakistan   \n",
       "..          ...         ...         ...   ...   ...          ...   \n",
       "344          28          52       53.84     3     0  Afghanistan   \n",
       "345          56          61        91.8     3     2  West Indies   \n",
       "346          42          31      135.48     4     1      England   \n",
       "347          35          33      106.06     4     0   Bangladesh   \n",
       "349          50          72       69.44     1     1  New Zealand   \n",
       "\n",
       "            ground       date  year  not_out  \n",
       "0       Chattogram 2004-12-23  2004        0  \n",
       "1            Dhaka 2004-12-26  2004        0  \n",
       "2            Dhaka 2004-12-27  2004        1  \n",
       "3            Kochi 2005-04-02  2005        0  \n",
       "4    Visakhapatnam 2005-04-05  2005        0  \n",
       "..             ...        ...   ...      ...  \n",
       "344    Southampton 2019-06-22  2019        0  \n",
       "345     Manchester 2019-06-27  2019        1  \n",
       "346     Birmingham 2019-06-30  2019        1  \n",
       "347     Birmingham 2019-07-02  2019        0  \n",
       "349     Manchester 2019-07-09  2019        0  \n",
       "\n",
       "[297 rows x 10 columns]"
      ]
     },
     "execution_count": 14,
     "metadata": {},
     "output_type": "execute_result"
    }
   ],
   "source": [
    "df_new"
   ]
  },
  {
   "cell_type": "code",
   "execution_count": 15,
   "id": "43bfa71f-467d-4a7a-8b32-a528e0d2a8cf",
   "metadata": {},
   "outputs": [],
   "source": [
    "df_new['runs_scored'] = df_new['runs_scored'].astype(int)\n",
    "df_new['balls_faced'] = df_new['balls_faced'].astype(int)\n",
    "df_new['strike_rate'] = df_new['strike_rate'].astype(float)\n",
    "df_new['fours'] = df_new['fours'].astype(int)\n",
    "df_new['sixes'] = df_new['sixes'].astype(int)"
   ]
  },
  {
   "cell_type": "code",
   "execution_count": 16,
   "id": "875a6d6f-4a27-4c94-bc3b-15c544304a73",
   "metadata": {},
   "outputs": [
    {
     "data": {
      "text/plain": [
       "'December 23 2004'"
      ]
     },
     "execution_count": 16,
     "metadata": {},
     "output_type": "execute_result"
    }
   ],
   "source": [
    "# Carrer statistics\n",
    "first_match_date = df['date'].dt.date.min().strftime('%B %d %Y')\n",
    "first_match_date"
   ]
  },
  {
   "cell_type": "code",
   "execution_count": 17,
   "id": "220efe2c-e644-403f-bb94-d299cf9c3bee",
   "metadata": {},
   "outputs": [
    {
     "data": {
      "text/plain": [
       "'July 09 2019'"
      ]
     },
     "execution_count": 17,
     "metadata": {},
     "output_type": "execute_result"
    }
   ],
   "source": [
    "last_match_date = df['date'].dt.date.max().strftime('%B %d %Y')\n",
    "last_match_date"
   ]
  },
  {
   "cell_type": "code",
   "execution_count": 18,
   "id": "193e5ba5-0e2d-4039-95ed-43f03831d0e7",
   "metadata": {},
   "outputs": [
    {
     "data": {
      "text/plain": [
       "350"
      ]
     },
     "execution_count": 18,
     "metadata": {},
     "output_type": "execute_result"
    }
   ],
   "source": [
    "number_of_matches = df.shape[0]\n",
    "number_of_matches"
   ]
  },
  {
   "cell_type": "code",
   "execution_count": 19,
   "id": "e930124e-1db6-4442-a6fc-cd9f24025eba",
   "metadata": {},
   "outputs": [
    {
     "data": {
      "text/plain": [
       "297"
      ]
     },
     "execution_count": 19,
     "metadata": {},
     "output_type": "execute_result"
    }
   ],
   "source": [
    "number_of_inns = df_new.shape[0]\n",
    "number_of_inns"
   ]
  },
  {
   "cell_type": "code",
   "execution_count": 20,
   "id": "92b7e555-d01d-4aa3-9011-1cab2d5ed100",
   "metadata": {},
   "outputs": [
    {
     "data": {
      "text/plain": [
       "84"
      ]
     },
     "execution_count": 20,
     "metadata": {},
     "output_type": "execute_result"
    }
   ],
   "source": [
    "not_outs = df_new['not_out'].sum()\n",
    "not_outs"
   ]
  },
  {
   "cell_type": "code",
   "execution_count": 21,
   "id": "094cdc11-ca31-43bb-bdfd-4ffd7df54ab2",
   "metadata": {},
   "outputs": [
    {
     "data": {
      "text/plain": [
       "10773"
      ]
     },
     "execution_count": 21,
     "metadata": {},
     "output_type": "execute_result"
    }
   ],
   "source": [
    "runs_scored = df_new['runs_scored'].sum()\n",
    "runs_scored"
   ]
  },
  {
   "cell_type": "code",
   "execution_count": 23,
   "id": "0e96f745-671d-4978-80ea-b5136d625f62",
   "metadata": {},
   "outputs": [
    {
     "data": {
      "text/plain": [
       "50.57746478873239"
      ]
     },
     "execution_count": 23,
     "metadata": {},
     "output_type": "execute_result"
    }
   ],
   "source": [
    "career_avg = (runs_scored/(number_of_inns-not_outs))\n",
    "career_avg"
   ]
  },
  {
   "cell_type": "code",
   "execution_count": 24,
   "id": "90919593-78b9-403d-86a5-1b65bd407f32",
   "metadata": {},
   "outputs": [
    {
     "data": {
      "text/plain": [
       "10"
      ]
     },
     "execution_count": 24,
     "metadata": {},
     "output_type": "execute_result"
    }
   ],
   "source": [
    "hundreds = (df_new['runs_scored']>=100).sum()\n",
    "hundreds"
   ]
  },
  {
   "cell_type": "code",
   "execution_count": 25,
   "id": "ccfe8ee8-d70d-41fa-94e1-7e2515a897b4",
   "metadata": {},
   "outputs": [
    {
     "data": {
      "text/plain": [
       "73"
      ]
     },
     "execution_count": 25,
     "metadata": {},
     "output_type": "execute_result"
    }
   ],
   "source": [
    "fifties = ((df_new['runs_scored']>=50)&(df_new['runs_scored']<100)).sum()\n",
    "fifties"
   ]
  },
  {
   "cell_type": "code",
   "execution_count": 26,
   "id": "204196d3-3b88-4c36-9666-8472020d3b8e",
   "metadata": {},
   "outputs": [
    {
     "data": {
      "text/plain": [
       "826"
      ]
     },
     "execution_count": 26,
     "metadata": {},
     "output_type": "execute_result"
    }
   ],
   "source": [
    "fours = df_new['fours'].sum()\n",
    "fours"
   ]
  },
  {
   "cell_type": "code",
   "execution_count": 27,
   "id": "820f4399-7ca9-499d-8131-06dfa3a23310",
   "metadata": {},
   "outputs": [
    {
     "data": {
      "text/plain": [
       "229"
      ]
     },
     "execution_count": 27,
     "metadata": {},
     "output_type": "execute_result"
    }
   ],
   "source": [
    "sixes = df_new['sixes'].sum()\n",
    "sixes"
   ]
  },
  {
   "cell_type": "code",
   "execution_count": 29,
   "id": "3c3995e8-f47e-42fd-9977-19aad7c7c360",
   "metadata": {},
   "outputs": [],
   "source": [
    "#career_sr = (runs_scored/balls_faced)*100\n",
    "#career_sr"
   ]
  },
  {
   "cell_type": "code",
   "execution_count": 30,
   "id": "ce4585a6-8850-4cda-81d8-5067f7e9cdf9",
   "metadata": {},
   "outputs": [
    {
     "data": {
      "text/plain": [
       "opposition\n",
       "Sri Lanka       67\n",
       "Australia       55\n",
       "England         48\n",
       "West Indies     39\n",
       "South Africa    37\n",
       "Pakistan        36\n",
       "New Zealand     28\n",
       "Bangladesh      21\n",
       "Zimbabwe         6\n",
       "Africa XI        3\n",
       "Hong Kong        2\n",
       "Ireland          2\n",
       "Afghanistan      2\n",
       "Bermuda          1\n",
       "Scotland         1\n",
       "Netherlands      1\n",
       "U.A.E.           1\n",
       "Name: count, dtype: int64"
      ]
     },
     "execution_count": 30,
     "metadata": {},
     "output_type": "execute_result"
    }
   ],
   "source": [
    "opposition_counts = df['opposition'].value_counts()\n",
    "opposition_counts"
   ]
  },
  {
   "cell_type": "code",
   "execution_count": 34,
   "id": "792719d7-7db3-4c58-a3fa-36f78b7eaacf",
   "metadata": {},
   "outputs": [
    {
     "data": {
      "text/plain": [
       "<Axes: title={'center': 'Number of matches against different oppositions'}, xlabel='opposition'>"
      ]
     },
     "execution_count": 34,
     "metadata": {},
     "output_type": "execute_result"
    },
    {
     "data": {
      "image/png": "[encoded data removed]",
      "text/plain": [
       "<Figure size 800x500 with 1 Axes>"
      ]
     },
     "metadata": {},
     "output_type": "display_data"
    }
   ],
   "source": [
    "# Plot the counts as a bar plot\n",
    "opposition_counts.plot(kind='bar',title='Number of matches against different oppositions',figsize=(8,5), color='pink')\n"
   ]
  },
  {
   "cell_type": "code",
   "execution_count": 36,
   "id": "b1f400f5-ed92-4088-9bf6-8d2f3c40cb4a",
   "metadata": {},
   "outputs": [
    {
     "data": {
      "text/plain": [
       "opposition\n",
       "Afghanistan       36\n",
       "Africa XI        174\n",
       "Australia       1660\n",
       "Bangladesh       569\n",
       "Bermuda           29\n",
       "England         1546\n",
       "Hong Kong        109\n",
       "Ireland           34\n",
       "Netherlands       19\n",
       "New Zealand      940\n",
       "Pakistan        1231\n",
       "South Africa     830\n",
       "Sri Lanka       2383\n",
       "West Indies     1005\n",
       "Zimbabwe         208\n",
       "Name: runs_scored, dtype: int32"
      ]
     },
     "execution_count": 36,
     "metadata": {},
     "output_type": "execute_result"
    }
   ],
   "source": [
    "grouped_by_opposition = df_new.groupby('opposition')\n",
    "sums_of_runs_scored = grouped_by_opposition['runs_scored'].sum()\n",
    "sums_of_runs_scored"
   ]
  },
  {
   "cell_type": "code",
   "execution_count": 37,
   "id": "e1006cd0-2398-4b0d-a3a7-095d01f48463",
   "metadata": {},
   "outputs": [],
   "source": [
    "runs_scored_by_opposition = pd.DataFrame(sums_of_runs_scored).reset_index()"
   ]
  },
  {
   "cell_type": "code",
   "execution_count": 40,
   "id": "87e2611a-00c5-4280-b227-26ea34acbe13",
   "metadata": {},
   "outputs": [
    {
     "data": {
      "text/plain": [
       "<Axes: title={'center': 'Runs scored against different opposition'}, xlabel='opposition'>"
      ]
     },
     "execution_count": 40,
     "metadata": {},
     "output_type": "execute_result"
    },
    {
     "data": {
      "image/png": "[encoded data removed]",
      "text/plain": [
       "<Figure size 500x700 with 1 Axes>"
      ]
     },
     "metadata": {},
     "output_type": "display_data"
    }
   ],
   "source": [
    "runs_scored_by_opposition.plot(x='opposition',kind='bar',title='Runs scored against different opposition',figsize=(5, 7), color='hotpink')"
   ]
  },
  {
   "cell_type": "code",
   "execution_count": null,
   "id": "0cb90b28-b982-4f99-bdbd-f83a088bc92a",
   "metadata": {},
   "outputs": [],
   "source": []
  }
 ],
 "metadata": {
  "kernelspec": {
   "display_name": "Python 3 (ipykernel)",
   "language": "python",
   "name": "python3"
  },
  "language_info": {
   "codemirror_mode": {
    "name": "ipython",
    "version": 3
   },
   "file_extension": ".py",
   "mimetype": "text/x-python",
   "name": "python",
   "nbconvert_exporter": "python",
   "pygments_lexer": "ipython3",
   "version": "3.12.4"
  }
 },
 "nbformat": 4,
 "nbformat_minor": 5
}
