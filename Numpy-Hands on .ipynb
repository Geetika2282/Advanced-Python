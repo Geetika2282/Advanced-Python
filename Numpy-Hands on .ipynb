{
 "cells": [
  {
   "cell_type": "code",
   "execution_count": 1,
   "id": "40061abc-9cd2-4cb3-b4db-63f296fc62e8",
   "metadata": {},
   "outputs": [],
   "source": [
    "import numpy as np"
   ]
  },
  {
   "cell_type": "code",
   "execution_count": 2,
   "id": "cd87241d-911d-44ca-951e-cd0edc55cba7",
   "metadata": {},
   "outputs": [
    {
     "data": {
      "text/plain": [
       "array([ 2, 21, 24, 43, 41,  6, 38, 13, 13, 12])"
      ]
     },
     "execution_count": 2,
     "metadata": {},
     "output_type": "execute_result"
    }
   ],
   "source": [
    "sales = np.random.randint(1, 50, size=10)\n",
    "sales"
   ]
  },
  {
   "cell_type": "code",
   "execution_count": 4,
   "id": "bb801292-1ee8-476e-976e-253e26370e5c",
   "metadata": {},
   "outputs": [
    {
     "data": {
      "text/plain": [
       "41"
      ]
     },
     "execution_count": 4,
     "metadata": {},
     "output_type": "execute_result"
    }
   ],
   "source": [
    "fifth_day_sales = sales[4]\n",
    "fifth_day_sales"
   ]
  },
  {
   "cell_type": "code",
   "execution_count": 5,
   "id": "0d3a49d6-31a2-42df-94db-6a0d30b43ea2",
   "metadata": {},
   "outputs": [
    {
     "data": {
      "text/plain": [
       "array([ 2, 21, 24, 43, 41])"
      ]
     },
     "execution_count": 5,
     "metadata": {},
     "output_type": "execute_result"
    }
   ],
   "source": [
    "first_five_days = sales[:5]\n",
    "first_five_days"
   ]
  },
  {
   "cell_type": "code",
   "execution_count": 6,
   "id": "ea6f6a3e-a851-46ce-9be1-5df30500a109",
   "metadata": {},
   "outputs": [
    {
     "data": {
      "text/plain": [
       "array([13, 13, 12])"
      ]
     },
     "execution_count": 6,
     "metadata": {},
     "output_type": "execute_result"
    }
   ],
   "source": [
    "last_three_days = sales[-3:]\n",
    "last_three_days"
   ]
  },
  {
   "cell_type": "code",
   "execution_count": 7,
   "id": "eb21f55e-20b2-40fd-9aba-a06144faf538",
   "metadata": {},
   "outputs": [
    {
     "data": {
      "text/plain": [
       "array([12, 31, 34, 53, 51, 16, 48, 23, 23, 22])"
      ]
     },
     "execution_count": 7,
     "metadata": {},
     "output_type": "execute_result"
    }
   ],
   "source": [
    "increased_sales = sales+10\n",
    "increased_sales"
   ]
  },
  {
   "cell_type": "code",
   "execution_count": 8,
   "id": "17451e48-9629-44a8-b050-6a1d22503121",
   "metadata": {},
   "outputs": [
    {
     "data": {
      "text/plain": [
       "array([ 1.8, 18.9, 21.6, 38.7, 36.9,  5.4, 34.2, 11.7, 11.7, 10.8])"
      ]
     },
     "execution_count": 8,
     "metadata": {},
     "output_type": "execute_result"
    }
   ],
   "source": [
    "discount_sales = sales - (sales * 0.1)\n",
    "discount_sales"
   ]
  },
  {
   "cell_type": "code",
   "execution_count": 10,
   "id": "cba52ebd-3943-41f5-9b19-55f626687c73",
   "metadata": {},
   "outputs": [
    {
     "data": {
      "text/plain": [
       "213"
      ]
     },
     "execution_count": 10,
     "metadata": {},
     "output_type": "execute_result"
    }
   ],
   "source": [
    "total_sales = sales.sum()\n",
    "total_sales"
   ]
  },
  {
   "cell_type": "code",
   "execution_count": 14,
   "id": "52b3d80c-d5d8-468b-94cb-d624334dd5fd",
   "metadata": {},
   "outputs": [
    {
     "data": {
      "text/plain": [
       "21.3"
      ]
     },
     "execution_count": 14,
     "metadata": {},
     "output_type": "execute_result"
    }
   ],
   "source": [
    "average_sales = np.mean(sales)\n",
    "average_sales"
   ]
  },
  {
   "cell_type": "code",
   "execution_count": 16,
   "id": "41c344f4-7669-400c-a239-fa4ad02e3e7f",
   "metadata": {},
   "outputs": [
    {
     "data": {
      "text/plain": [
       "43"
      ]
     },
     "execution_count": 16,
     "metadata": {},
     "output_type": "execute_result"
    }
   ],
   "source": [
    "max_sales = sales.max()\n",
    "max_sales"
   ]
  },
  {
   "cell_type": "code",
   "execution_count": 17,
   "id": "b1d9a4e7-90ca-4d4f-9f47-9f17d15c7aba",
   "metadata": {},
   "outputs": [
    {
     "data": {
      "text/plain": [
       "2"
      ]
     },
     "execution_count": 17,
     "metadata": {},
     "output_type": "execute_result"
    }
   ],
   "source": [
    "sales_min = sales.min()\n",
    "sales_min"
   ]
  },
  {
   "cell_type": "code",
   "execution_count": 18,
   "id": "5faf8e7c-a186-42b6-8e19-0f730371286f",
   "metadata": {},
   "outputs": [
    {
     "data": {
      "text/plain": [
       "array([[ 2, 21, 24, 43, 41],\n",
       "       [ 6, 38, 13, 13, 12]])"
      ]
     },
     "execution_count": 18,
     "metadata": {},
     "output_type": "execute_result"
    }
   ],
   "source": [
    "reshapeSales = sales.reshape(2, 5)\n",
    "reshapeSales"
   ]
  },
  {
   "cell_type": "code",
   "execution_count": 21,
   "id": "3ff0c0ad-4dc1-4093-a4f1-abc2b1b00b6e",
   "metadata": {},
   "outputs": [
    {
     "data": {
      "text/plain": [
       "array([43, 41, 38])"
      ]
     },
     "execution_count": 21,
     "metadata": {},
     "output_type": "execute_result"
    }
   ],
   "source": [
    "above_35 = sales[sales>35]\n",
    "above_35"
   ]
  },
  {
   "cell_type": "code",
   "execution_count": 22,
   "id": "efd03ad2-25ae-4562-b452-50eee468ac59",
   "metadata": {},
   "outputs": [
    {
     "data": {
      "text/plain": [
       "array([False, False, False,  True,  True, False,  True, False, False,\n",
       "       False])"
      ]
     },
     "execution_count": 22,
     "metadata": {},
     "output_type": "execute_result"
    }
   ],
   "source": [
    "high_sales = sales>35\n",
    "high_sales"
   ]
  },
  {
   "cell_type": "code",
   "execution_count": null,
   "id": "fc68f88a-9961-4683-b001-1cbddad3fd96",
   "metadata": {},
   "outputs": [],
   "source": []
  }
 ],
 "metadata": {
  "kernelspec": {
   "display_name": "Python 3 (ipykernel)",
   "language": "python",
   "name": "python3"
  },
  "language_info": {
   "codemirror_mode": {
    "name": "ipython",
    "version": 3
   },
   "file_extension": ".py",
   "mimetype": "text/x-python",
   "name": "python",
   "nbconvert_exporter": "python",
   "pygments_lexer": "ipython3",
   "version": "3.11.5"
  }
 },
 "nbformat": 4,
 "nbformat_minor": 5
}
