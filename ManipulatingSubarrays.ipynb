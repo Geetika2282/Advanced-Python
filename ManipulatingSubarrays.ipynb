{
 "cells": [
  {
   "cell_type": "code",
   "execution_count": 1,
   "id": "e418d29d-ba3f-4236-ad7f-e2333177f00f",
   "metadata": {},
   "outputs": [],
   "source": [
    "import numpy as np"
   ]
  },
  {
   "cell_type": "code",
   "execution_count": 11,
   "id": "2862ba8e-320f-4e38-a3b2-cca122e31db6",
   "metadata": {},
   "outputs": [],
   "source": [
    "arr2 = np.random.randint(50, 100, size=(5, 5))"
   ]
  },
  {
   "cell_type": "code",
   "execution_count": 43,
   "id": "b5f98cb3-d63f-44e1-8038-a72f6902c8d6",
   "metadata": {},
   "outputs": [
    {
     "data": {
      "text/plain": [
       "array([[69, 50, 79, 71, 53],\n",
       "       [96,  0,  0,  0,  0],\n",
       "       [51,  0,  0,  0,  0],\n",
       "       [ 0,  0,  0,  0,  0],\n",
       "       [ 0,  0,  0,  0,  0]])"
      ]
     },
     "execution_count": 43,
     "metadata": {},
     "output_type": "execute_result"
    }
   ],
   "source": [
    "arr2"
   ]
  },
  {
   "cell_type": "code",
   "execution_count": 45,
   "id": "284ac8ff-8845-4bc2-9e20-3f7e21e53a3a",
   "metadata": {},
   "outputs": [],
   "source": [
    "arr2_0 = arr2\n",
    "arr2_0[1:4, 1:4] = 0 "
   ]
  },
  {
   "cell_type": "code",
   "execution_count": 47,
   "id": "bae2f8fe-426c-4b00-8726-783f02cc939b",
   "metadata": {},
   "outputs": [
    {
     "data": {
      "text/plain": [
       "array([[69, 50, 79, 71, 53],\n",
       "       [96,  0,  0,  0,  0],\n",
       "       [51,  0,  0,  0,  0],\n",
       "       [ 0,  0,  0,  0,  0],\n",
       "       [ 0,  0,  0,  0,  0]])"
      ]
     },
     "execution_count": 47,
     "metadata": {},
     "output_type": "execute_result"
    }
   ],
   "source": [
    "arr2_0"
   ]
  },
  {
   "cell_type": "code",
   "execution_count": null,
   "id": "5661750e-8f9a-4429-9fd7-2eedcaa73300",
   "metadata": {},
   "outputs": [],
   "source": []
  }
 ],
 "metadata": {
  "kernelspec": {
   "display_name": "Python 3 (ipykernel)",
   "language": "python",
   "name": "python3"
  },
  "language_info": {
   "codemirror_mode": {
    "name": "ipython",
    "version": 3
   },
   "file_extension": ".py",
   "mimetype": "text/x-python",
   "name": "python",
   "nbconvert_exporter": "python",
   "pygments_lexer": "ipython3",
   "version": "3.12.4"
  }
 },
 "nbformat": 4,
 "nbformat_minor": 5
}
