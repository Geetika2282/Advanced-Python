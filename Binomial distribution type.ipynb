{
 "cells": [
  {
   "cell_type": "code",
   "execution_count": 43,
   "id": "76ffb672-30f3-4d1d-a73c-4518656d17e9",
   "metadata": {},
   "outputs": [],
   "source": [
    "from scipy.stats import binom"
   ]
  },
  {
   "cell_type": "code",
   "execution_count": 44,
   "id": "36604db0-833e-4244-8521-07eb9c1e8fa5",
   "metadata": {},
   "outputs": [],
   "source": [
    "n = 5 # total number of students\n",
    "k = 3 # number of students who like python\n",
    "p = 0.66 # probability that a student likes python"
   ]
  },
  {
   "cell_type": "code",
   "execution_count": 45,
   "id": "053f147f-cb56-4eab-b98e-9ce37a37d1d8",
   "metadata": {},
   "outputs": [
    {
     "name": "stdout",
     "output_type": "stream",
     "text": [
      "Probability :0.3323\n"
     ]
    }
   ],
   "source": [
    "# Calculate binomial probability\n",
    "probability = binom.pmf(k, n, p)\n",
    "print(f'Probability :{probability:.4f}')"
   ]
  },
  {
   "cell_type": "code",
   "execution_count": 46,
   "id": "1ff43225-afff-404e-a760-e1d39596c586",
   "metadata": {},
   "outputs": [],
   "source": [
    "# calculate probability that 2 out of 7 students prefer online over in-person classes when, \n",
    "#in general , 55% of students prefer online learning\n",
    "n = 7\n",
    "k = 2\n",
    "p = 0.55"
   ]
  },
  {
   "cell_type": "code",
   "execution_count": 47,
   "id": "eb05e786-e1f9-4b2d-a8aa-1aa0fa70aaf3",
   "metadata": {},
   "outputs": [
    {
     "name": "stdout",
     "output_type": "stream",
     "text": [
      "Probability: 0.1172\n"
     ]
    }
   ],
   "source": [
    "probability = binom.pmf(k,n,p)\n",
    "print(f'Probability: {probability:.4f}')"
   ]
  },
  {
   "cell_type": "code",
   "execution_count": null,
   "id": "9706472b-9c9d-480f-942a-6419d9d124d4",
   "metadata": {},
   "outputs": [],
   "source": []
  }
 ],
 "metadata": {
  "kernelspec": {
   "display_name": "Python 3 (ipykernel)",
   "language": "python",
   "name": "python3"
  },
  "language_info": {
   "codemirror_mode": {
    "name": "ipython",
    "version": 3
   },
   "file_extension": ".py",
   "mimetype": "text/x-python",
   "name": "python",
   "nbconvert_exporter": "python",
   "pygments_lexer": "ipython3",
   "version": "3.12.4"
  }
 },
 "nbformat": 4,
 "nbformat_minor": 5
}
