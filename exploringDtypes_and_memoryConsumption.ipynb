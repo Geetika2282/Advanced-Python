{
 "cells": [
  {
   "cell_type": "code",
   "execution_count": 1,
   "id": "e0098bb3-33c1-40ae-b955-d9a523aa6e16",
   "metadata": {},
   "outputs": [],
   "source": [
    "import numpy as np\n"
   ]
  },
  {
   "cell_type": "code",
   "execution_count": 3,
   "id": "6056e4f5-9dd6-4689-9760-53bce21ab582",
   "metadata": {},
   "outputs": [],
   "source": [
    "\n",
    "def arrInfo(arr):\n",
    "    print(\"Dimensions = \", arr.ndim)\n",
    "    print(\"Shape = \", arr.ndim)\n",
    "    print(\"Size = \", arr.size)\n",
    "    print(\"Datatype = \", arr.dtype)"
   ]
  },
  {
   "cell_type": "code",
   "execution_count": 5,
   "id": "3af2b407-fd69-47e9-8645-cc177ae12b4e",
   "metadata": {},
   "outputs": [
    {
     "name": "stdout",
     "output_type": "stream",
     "text": [
      "Dimensions =  1\n",
      "Shape =  1\n",
      "Size =  3\n",
      "Datatype =  int32\n"
     ]
    }
   ],
   "source": [
    "\n",
    "arr1 = np.array([1, 2, 3])\n",
    "arrInfo(arr1)"
   ]
  },
  {
   "cell_type": "code",
   "execution_count": 7,
   "id": "5d843a0c-a257-42e6-bd28-69df7ff79c7e",
   "metadata": {},
   "outputs": [
    {
     "name": "stdout",
     "output_type": "stream",
     "text": [
      "Dimensions =  2\n",
      "Shape =  2\n",
      "Size =  6\n",
      "Datatype =  int32\n"
     ]
    }
   ],
   "source": [
    "arr2 = np.array([[1, 2, 3], [4, 5, 6]])\n",
    "arrInfo(arr2)"
   ]
  },
  {
   "cell_type": "code",
   "execution_count": 9,
   "id": "200000ee-21f0-482f-bb3f-72b89b2ac14a",
   "metadata": {},
   "outputs": [
    {
     "name": "stdout",
     "output_type": "stream",
     "text": [
      "Dimensions =  2\n",
      "Shape =  2\n",
      "Size =  9\n",
      "Datatype =  int32\n"
     ]
    }
   ],
   "source": [
    "arr3 = np.array([[1, 2, 3], [4, 5, 6], [7, 8, 9]])\n",
    "arrInfo(arr3)"
   ]
  },
  {
   "cell_type": "code",
   "execution_count": 71,
   "id": "f6eef140-1971-46ce-8e4f-1ba767e857af",
   "metadata": {},
   "outputs": [],
   "source": [
    "arr4 = np.array([1, 2, 3, 5, 0])"
   ]
  },
  {
   "cell_type": "code",
   "execution_count": 73,
   "id": "c58d106e-34ad-4066-9e7b-6e7240d5f8c5",
   "metadata": {},
   "outputs": [],
   "source": [
    "arr4Float = arr4.astype(float)"
   ]
  },
  {
   "cell_type": "code",
   "execution_count": 75,
   "id": "b420b052-f86c-40cc-b1d9-602c6307f16c",
   "metadata": {},
   "outputs": [
    {
     "data": {
      "text/plain": [
       "4"
      ]
     },
     "execution_count": 75,
     "metadata": {},
     "output_type": "execute_result"
    }
   ],
   "source": [
    "arr4.itemsize"
   ]
  },
  {
   "cell_type": "code",
   "execution_count": 77,
   "id": "449e6a3a-b253-4ae8-9595-10a3d0e2b206",
   "metadata": {},
   "outputs": [
    {
     "data": {
      "text/plain": [
       "8"
      ]
     },
     "execution_count": 77,
     "metadata": {},
     "output_type": "execute_result"
    }
   ],
   "source": [
    "arr4Float.itemsize"
   ]
  },
  {
   "cell_type": "code",
   "execution_count": 79,
   "id": "3f29b4b5-21f9-4ae7-9d4b-603eb87e515f",
   "metadata": {},
   "outputs": [
    {
     "data": {
      "text/plain": [
       "20"
      ]
     },
     "execution_count": 79,
     "metadata": {},
     "output_type": "execute_result"
    }
   ],
   "source": [
    "arr4.nbytes"
   ]
  },
  {
   "cell_type": "code",
   "execution_count": 81,
   "id": "fb46c01e-c006-4e78-b6c9-8a8ff6b4f627",
   "metadata": {},
   "outputs": [
    {
     "data": {
      "text/plain": [
       "40"
      ]
     },
     "execution_count": 81,
     "metadata": {},
     "output_type": "execute_result"
    }
   ],
   "source": [
    "arr4Float.nbytes"
   ]
  },
  {
   "cell_type": "code",
   "execution_count": 83,
   "id": "5acd601a-7e4e-44b1-9fe4-2497832bef27",
   "metadata": {},
   "outputs": [],
   "source": [
    "arr4Bool = arr4.astype(bool)"
   ]
  },
  {
   "cell_type": "code",
   "execution_count": 85,
   "id": "d83b570c-86fc-4d95-9346-7f4ad7bfdb5e",
   "metadata": {},
   "outputs": [
    {
     "data": {
      "text/plain": [
       "20"
      ]
     },
     "execution_count": 85,
     "metadata": {},
     "output_type": "execute_result"
    }
   ],
   "source": [
    "arr4.nbytes"
   ]
  },
  {
   "cell_type": "raw",
   "id": "8bc1901d-0a0e-4d46-896e-a9c2e596040f",
   "metadata": {},
   "source": [
    "arr4Bool.itemsize"
   ]
  },
  {
   "cell_type": "code",
   "execution_count": 41,
   "id": "b665469b-1dc3-4e83-bc4f-1e626164fa5a",
   "metadata": {},
   "outputs": [],
   "source": []
  },
  {
   "cell_type": "code",
   "execution_count": 45,
   "id": "9dd03a3b-f4fa-4d5e-81b5-5f0476a85177",
   "metadata": {},
   "outputs": [
    {
     "data": {
      "text/plain": [
       "8"
      ]
     },
     "execution_count": 45,
     "metadata": {},
     "output_type": "execute_result"
    }
   ],
   "source": []
  },
  {
   "cell_type": "code",
   "execution_count": 47,
   "id": "533cc824-569b-4194-a3d7-334e991124a0",
   "metadata": {},
   "outputs": [
    {
     "data": {
      "text/plain": [
       "32"
      ]
     },
     "execution_count": 47,
     "metadata": {},
     "output_type": "execute_result"
    }
   ],
   "source": [
    "arr7.nbytes"
   ]
  },
  {
   "cell_type": "code",
   "execution_count": null,
   "id": "2bc78b0b-2128-4cb2-9807-413c7b1a4f8d",
   "metadata": {},
   "outputs": [],
   "source": []
  },
  {
   "cell_type": "code",
   "execution_count": null,
   "id": "4c5ffb7e-0af8-44cc-9e94-5b0eb19b6d19",
   "metadata": {},
   "outputs": [],
   "source": []
  },
  {
   "cell_type": "code",
   "execution_count": null,
   "id": "1e05416b-c4bb-4171-bf98-38616d933d31",
   "metadata": {},
   "outputs": [],
   "source": []
  }
 ],
 "metadata": {
  "kernelspec": {
   "display_name": "Python 3 (ipykernel)",
   "language": "python",
   "name": "python3"
  },
  "language_info": {
   "codemirror_mode": {
    "name": "ipython",
    "version": 3
   },
   "file_extension": ".py",
   "mimetype": "text/x-python",
   "name": "python",
   "nbconvert_exporter": "python",
   "pygments_lexer": "ipython3",
   "version": "3.12.4"
  }
 },
 "nbformat": 4,
 "nbformat_minor": 5
}
